{
 "cells": [
  {
   "cell_type": "code",
   "execution_count": 1,
   "metadata": {
    "_cell_guid": "3d458c15-e131-f3c4-f756-843d6454bb37",
    "_uuid": "76c68c2752f5c4a44660ccadda2168aaeca3930d"
   },
   "outputs": [
    {
     "name": "stderr",
     "output_type": "stream",
     "text": [
      "Using TensorFlow backend.\n"
     ]
    }
   ],
   "source": [
    "import os \n",
    "import cv2\n",
    "import random\n",
    "import numpy as np\n",
    "import pandas as pd\n",
    "\n",
    "import matplotlib.pyplot as plt\n",
    "%matplotlib inline \n",
    "from matplotlib import ticker\n",
    "import seaborn as sns\n",
    "\n",
    "from sklearn.model_selection import train_test_split\n",
    "from sklearn import metrics\n",
    "from sklearn.model_selection import  GridSearchCV\n",
    "from imblearn.under_sampling import RandomUnderSampler\n",
    "from sklearn.utils import shuffle\n",
    "\n",
    "import keras\n",
    "from keras.models import Sequential\n",
    "from keras.wrappers.scikit_learn import KerasClassifier\n",
    "from keras.layers import Input, Dropout, Flatten, Conv2D, MaxPooling2D, Dense, Activation\n",
    "from keras.optimizers import RMSprop, adam\n",
    "from keras.utils import np_utils\n",
    "\n",
    "from keras import backend as K\n",
    "K.set_image_data_format('channels_first')"
   ]
  },
  {
   "cell_type": "code",
   "execution_count": 2,
   "metadata": {},
   "outputs": [
    {
     "name": "stdout",
     "output_type": "stream",
     "text": [
      "\u001b[0m\u001b[01;34m2018-04-21-20-41-25\u001b[0m/\r\n"
     ]
    }
   ],
   "source": [
    "ls ./frames"
   ]
  },
  {
   "cell_type": "code",
   "execution_count": 3,
   "metadata": {
    "_cell_guid": "663d335e-1b84-a8cb-19ee-8f04839cf4e5",
    "_uuid": "16ddc310f7e96e68f1a5cb8ef796be3afdbb33f8"
   },
   "outputs": [
    {
     "name": "stdout",
     "output_type": "stream",
     "text": [
      "Processed 0 of 3848\n",
      "Processed 1000 of 3848\n",
      "Processed 2000 of 3848\n",
      "Processed 3000 of 3848\n",
      "Train shape: (3848, 1, 64, 64)\n"
     ]
    }
   ],
   "source": [
    "# Set up some parmaeters for data loading\n",
    "\n",
    "#Plug in your training dir\n",
    "\n",
    "#Other user\n",
    "#TRAIN_DIR = './frames/something..etc/'\n",
    "\n",
    "#Andy\n",
    "TRAIN_DIR = './frames/2018-04-21-20-41-25/'\n",
    "\n",
    "#Conor\n",
    "#TRAIN_DIR = './frames/something..etc/'\n",
    "\n",
    "sample_rate = 0.1\n",
    "ROWS = 64\n",
    "COLS = 64\n",
    "CHANNELS = 1\n",
    "\n",
    "# generate filenames from the data folder and do sampling\n",
    "image_filenames = [TRAIN_DIR+i for i in os.listdir(TRAIN_DIR) if not i.startswith('.')] # use this for full dataset\n",
    "image_filenames = random.sample(image_filenames, int(len(image_filenames)*sample_rate))\n",
    "\n",
    "# Create a data array for image data\n",
    "count = len(image_filenames)\n",
    "data = np.ndarray((count, CHANNELS, ROWS, COLS), dtype=np.float)\n",
    "\n",
    "# Iterate throuigh the filenames and for each one load the image, resize and normalise\n",
    "for i, image_file in enumerate(image_filenames):\n",
    "    image = cv2.imread(image_file, cv2.IMREAD_GRAYSCALE)\n",
    "    image = cv2.resize(image, (ROWS, COLS), interpolation=cv2.INTER_CUBIC)        \n",
    "    data[i] = image\n",
    "    data[i] = data[i]/255\n",
    "    if i%1000 == 0: print('Processed {} of {}'.format(i, count))\n",
    "\n",
    "print(\"Train shape: {}\".format(data.shape))"
   ]
  },
  {
   "cell_type": "code",
   "execution_count": 4,
   "metadata": {
    "_cell_guid": "c0f2fbf6-8d78-7d42-6579-5486a36c1e60",
    "_uuid": "ba1fa53e4ef436c3e26d0ef7b8d3f327db9ae6c0",
    "scrolled": true
   },
   "outputs": [
    {
     "data": {
      "text/plain": [
       "<matplotlib.axes._subplots.AxesSubplot at 0x7fd7c0066b70>"
      ]
     },
     "execution_count": 4,
     "metadata": {},
     "output_type": "execute_result"
    },
    {
     "data": {
      "image/png": "[encoded data removed]",
      "text/plain": [
       "<Figure size 432x288 with 1 Axes>"
      ]
     },
     "metadata": {},
     "output_type": "display_data"
    }
   ],
   "source": [
    "# Extract the lables from the last characters in the filename\n",
    "labels = []\n",
    "for i in image_filenames:\n",
    "    l = i[-6:-5]\n",
    "    labels.append(int(l))\n",
    "        \n",
    "# Count the number of clases\n",
    "num_classes = len(set(labels))\n",
    "\n",
    "# convert to binary encoded labels\n",
    "labels_wide = keras.utils.to_categorical(labels, num_classes)\n",
    "\n",
    "# Plot a bar plot of the \n",
    "sns.countplot(labels)"
   ]
  },
  {
   "cell_type": "code",
   "execution_count": 5,
   "metadata": {},
   "outputs": [
    {
     "name": "stdout",
     "output_type": "stream",
     "text": [
      "0\n"
     ]
    },
    {
     "data": {
      "image/png": "[encoded data removed]",
      "text/plain": [
       "<Figure size 216x216 with 1 Axes>"
      ]
     },
     "metadata": {},
     "output_type": "display_data"
    },
    {
     "name": "stdout",
     "output_type": "stream",
     "text": [
      "0\n"
     ]
    },
    {
     "data": {
      "image/png": "[encoded data removed]",
      "text/plain": [
       "<Figure size 216x216 with 1 Axes>"
      ]
     },
     "metadata": {},
     "output_type": "display_data"
    },
    {
     "name": "stdout",
     "output_type": "stream",
     "text": [
      "0\n"
     ]
    },
    {
     "data": {
      "image/png": "[encoded data removed]",
      "text/plain": [
       "<Figure size 216x216 with 1 Axes>"
      ]
     },
     "metadata": {},
     "output_type": "display_data"
    },
    {
     "name": "stdout",
     "output_type": "stream",
     "text": [
      "2\n"
     ]
    },
    {
     "data": {
      "image/png": "[encoded data removed]",
      "text/plain": [
       "<Figure size 216x216 with 1 Axes>"
      ]
     },
     "metadata": {},
     "output_type": "display_data"
    },
    {
     "name": "stdout",
     "output_type": "stream",
     "text": [
      "2\n"
     ]
    },
    {
     "data": {
      "image/png": "[encoded data removed]",
      "text/plain": [
       "<Figure size 216x216 with 1 Axes>"
      ]
     },
     "metadata": {},
     "output_type": "display_data"
    }
   ],
   "source": [
    "#show some screens\n",
    "for i in range(0,5):\n",
    "    idx = random.randint(0, len(labels))\n",
    "    print(labels[idx])\n",
    "    plt.figure(figsize=(3,3))\n",
    "    plt.imshow(data[idx][0], cmap='gray')\n",
    "    plt.show()"
   ]
  },
  {
   "cell_type": "code",
   "execution_count": 6,
   "metadata": {},
   "outputs": [],
   "source": [
    "#train test split\n",
    "train, test, train_labels, test_labels = train_test_split(data, labels, random_state=0, test_size = 0.2, train_size = 0.8)\n",
    "train_labels_wide = keras.utils.to_categorical(train_labels, num_classes)\n",
    "test_labels_wide = keras.utils.to_categorical(test_labels, num_classes)"
   ]
  },
  {
   "cell_type": "code",
   "execution_count": 7,
   "metadata": {},
   "outputs": [
    {
     "data": {
      "image/png": "[encoded data removed]",
      "text/plain": [
       "<Figure size 432x288 with 1 Axes>"
      ]
     },
     "metadata": {},
     "output_type": "display_data"
    }
   ],
   "source": [
    "# Apply the random under-sampling\n",
    "rus = RandomUnderSampler(return_indices=True)\n",
    "train_rus, train_labels_rus, idx_resampled = rus.fit_sample(train.reshape(len(train), ROWS*COLS*CHANNELS), train_labels)\n",
    "train_rus, train_labels_rus = shuffle(train_rus, train_labels_rus)\n",
    "train_rus = train_rus.reshape(len(train_rus), CHANNELS,ROWS, COLS)\n",
    "sns.countplot(train_labels_rus)\n",
    "train_labels_rus_wide = keras.utils.to_categorical(train_labels_rus, num_classes)"
   ]
  },
  {
   "cell_type": "code",
   "execution_count": 8,
   "metadata": {
    "_cell_guid": "4c477612-41d3-3112-5176-3c4ad9633080",
    "_uuid": "f316f98f6d395fe3898e7f0465e21cd8e7562b21",
    "scrolled": true
   },
   "outputs": [],
   "source": [
    "#Build Keras Models\n",
    "\n",
    "#build Keras model\n",
    "def build_fn(dropout_rate=0.0):\n",
    "    model = Sequential()\n",
    "    model.add(Conv2D(32, (3, 3), padding='same', input_shape=(CHANNELS, ROWS, COLS), activation='relu'))\n",
    "    model.add(MaxPooling2D(pool_size=(2, 2)))\n",
    "    model.add(Flatten())\n",
    "    model.add(Dense(64, activation='relu'))\n",
    "    model.add(Dropout(dropout_rate))\n",
    "    model.add(Dense(num_classes, activation = 'softmax'))\n",
    "    model.compile(loss='categorical_crossentropy', optimizer=adam(lr=1e-3), metrics=['accuracy'])\n",
    "    return model\n",
    "\n",
    "#wrap Keras model for sklearn API\n",
    "#model = KerasClassifier(build_fn=func_name, **func_kwargs, verbose=1)\n",
    "model = KerasClassifier(build_fn=build_fn, dropout_rate=0.1, verbose=1)"
   ]
  },
  {
   "cell_type": "code",
   "execution_count": 9,
   "metadata": {},
   "outputs": [
    {
     "name": "stdout",
     "output_type": "stream",
     "text": [
      "Train on 217 samples, validate on 73 samples\n",
      "Epoch 1/10\n",
      "217/217 [==============================] - 5s 25ms/step - loss: 1.5604 - acc: 0.2396 - val_loss: 1.3876 - val_acc: 0.2192\n",
      "Epoch 2/10\n",
      "217/217 [==============================] - 5s 23ms/step - loss: 1.3874 - acc: 0.3134 - val_loss: 1.4027 - val_acc: 0.2192\n",
      "Epoch 3/10\n",
      "217/217 [==============================] - 5s 23ms/step - loss: 1.3893 - acc: 0.2627 - val_loss: 1.3872 - val_acc: 0.2740\n",
      "Epoch 4/10\n",
      "217/217 [==============================] - 5s 23ms/step - loss: 1.3465 - acc: 0.4147 - val_loss: 1.3908 - val_acc: 0.2466\n",
      "Epoch 5/10\n",
      "217/217 [==============================] - 5s 23ms/step - loss: 1.3446 - acc: 0.3594 - val_loss: 1.4044 - val_acc: 0.2329\n",
      "Epoch 6/10\n",
      "217/217 [==============================] - 5s 22ms/step - loss: 1.3429 - acc: 0.3687 - val_loss: 1.4120 - val_acc: 0.2329\n",
      "Epoch 7/10\n",
      "217/217 [==============================] - 5s 23ms/step - loss: 1.3367 - acc: 0.3963 - val_loss: 1.3978 - val_acc: 0.2740\n",
      "Epoch 8/10\n",
      "217/217 [==============================] - 5s 22ms/step - loss: 1.2961 - acc: 0.4608 - val_loss: 1.3851 - val_acc: 0.2877\n",
      "Epoch 9/10\n",
      "217/217 [==============================] - 5s 22ms/step - loss: 1.3299 - acc: 0.3871 - val_loss: 1.3810 - val_acc: 0.3151\n",
      "Epoch 10/10\n",
      "217/217 [==============================] - 5s 22ms/step - loss: 1.2895 - acc: 0.4194 - val_loss: 1.3847 - val_acc: 0.2466\n",
      "146/146 [==============================] - 2s 11ms/step\n",
      "290/290 [==============================] - 3s 11ms/step\n",
      "Train on 218 samples, validate on 73 samples\n",
      "Epoch 1/10\n",
      "218/218 [==============================] - 5s 23ms/step - loss: 1.4107 - acc: 0.2615 - val_loss: 1.4679 - val_acc: 0.2740\n",
      "Epoch 2/10\n",
      "218/218 [==============================] - 5s 22ms/step - loss: 1.4419 - acc: 0.3257 - val_loss: 1.4155 - val_acc: 0.2877\n",
      "Epoch 3/10\n",
      "218/218 [==============================] - 5s 23ms/step - loss: 1.3359 - acc: 0.3716 - val_loss: 1.4857 - val_acc: 0.2329\n",
      "Epoch 4/10\n",
      "218/218 [==============================] - 5s 23ms/step - loss: 1.2812 - acc: 0.3761 - val_loss: 1.4035 - val_acc: 0.2466\n",
      "Epoch 5/10\n",
      "218/218 [==============================] - 5s 22ms/step - loss: 1.2181 - acc: 0.4587 - val_loss: 1.3858 - val_acc: 0.2603\n",
      "Epoch 6/10\n",
      "218/218 [==============================] - 5s 22ms/step - loss: 1.2008 - acc: 0.4771 - val_loss: 1.3669 - val_acc: 0.3288\n",
      "Epoch 7/10\n",
      "218/218 [==============================] - 5s 23ms/step - loss: 1.1532 - acc: 0.5550 - val_loss: 1.3896 - val_acc: 0.3014\n",
      "Epoch 8/10\n",
      "218/218 [==============================] - 5s 24ms/step - loss: 1.1355 - acc: 0.5459 - val_loss: 1.4119 - val_acc: 0.2603\n",
      "Epoch 9/10\n",
      "218/218 [==============================] - 5s 23ms/step - loss: 1.0984 - acc: 0.5596 - val_loss: 1.3934 - val_acc: 0.3425\n",
      "Epoch 10/10\n",
      "218/218 [==============================] - 5s 22ms/step - loss: 1.0424 - acc: 0.6239 - val_loss: 1.3857 - val_acc: 0.3562\n",
      "145/145 [==============================] - 2s 11ms/step\n",
      "291/291 [==============================] - 3s 12ms/step\n",
      "Train on 218 samples, validate on 73 samples\n",
      "Epoch 1/10\n",
      "218/218 [==============================] - 5s 23ms/step - loss: 1.5870 - acc: 0.2569 - val_loss: 1.8140 - val_acc: 0.1918\n",
      "Epoch 2/10\n",
      "218/218 [==============================] - 5s 22ms/step - loss: 1.7204 - acc: 0.2615 - val_loss: 1.5188 - val_acc: 0.3288\n",
      "Epoch 3/10\n",
      "218/218 [==============================] - 5s 22ms/step - loss: 1.5631 - acc: 0.2523 - val_loss: 1.3949 - val_acc: 0.2877\n",
      "Epoch 4/10\n",
      "218/218 [==============================] - 5s 22ms/step - loss: 1.3459 - acc: 0.3257 - val_loss: 1.5690 - val_acc: 0.1918\n",
      "Epoch 5/10\n",
      "218/218 [==============================] - 5s 23ms/step - loss: 1.3941 - acc: 0.3807 - val_loss: 1.6541 - val_acc: 0.1781\n",
      "Epoch 6/10\n",
      "218/218 [==============================] - 5s 23ms/step - loss: 1.3781 - acc: 0.3899 - val_loss: 1.4812 - val_acc: 0.2055\n",
      "Epoch 7/10\n",
      "218/218 [==============================] - 5s 22ms/step - loss: 1.2594 - acc: 0.4450 - val_loss: 1.3831 - val_acc: 0.3288\n",
      "Epoch 8/10\n",
      "218/218 [==============================] - 5s 22ms/step - loss: 1.2291 - acc: 0.4862 - val_loss: 1.3679 - val_acc: 0.3425\n",
      "Epoch 9/10\n",
      "218/218 [==============================] - 5s 23ms/step - loss: 1.2551 - acc: 0.4495 - val_loss: 1.3865 - val_acc: 0.3425\n",
      "Epoch 10/10\n",
      "218/218 [==============================] - 5s 22ms/step - loss: 1.2139 - acc: 0.4817 - val_loss: 1.4004 - val_acc: 0.2740\n",
      "145/145 [==============================] - 2s 11ms/step\n",
      "291/291 [==============================] - 3s 11ms/step\n",
      "Train on 327 samples, validate on 109 samples\n",
      "Epoch 1/10\n",
      "327/327 [==============================] - 8s 23ms/step - loss: 1.5177 - acc: 0.2538 - val_loss: 1.5217 - val_acc: 0.2661\n",
      "Epoch 2/10\n",
      "327/327 [==============================] - 7s 22ms/step - loss: 1.4262 - acc: 0.3058 - val_loss: 1.4860 - val_acc: 0.2936\n",
      "Epoch 3/10\n",
      "327/327 [==============================] - 7s 22ms/step - loss: 1.4209 - acc: 0.2783 - val_loss: 1.4087 - val_acc: 0.2844\n",
      "Epoch 4/10\n",
      "327/327 [==============================] - 7s 22ms/step - loss: 1.3317 - acc: 0.3731 - val_loss: 1.4002 - val_acc: 0.2752\n",
      "Epoch 5/10\n",
      "327/327 [==============================] - 7s 23ms/step - loss: 1.3004 - acc: 0.4037 - val_loss: 1.3577 - val_acc: 0.3211\n",
      "Epoch 6/10\n",
      "327/327 [==============================] - 7s 23ms/step - loss: 1.2805 - acc: 0.4618 - val_loss: 1.3676 - val_acc: 0.2294\n",
      "Epoch 7/10\n",
      "327/327 [==============================] - 8s 23ms/step - loss: 1.2432 - acc: 0.4832 - val_loss: 1.3660 - val_acc: 0.3211\n",
      "Epoch 8/10\n",
      "327/327 [==============================] - 7s 22ms/step - loss: 1.2186 - acc: 0.4771 - val_loss: 1.3777 - val_acc: 0.3394\n",
      "Epoch 9/10\n",
      "327/327 [==============================] - 7s 22ms/step - loss: 1.1900 - acc: 0.5168 - val_loss: 1.3539 - val_acc: 0.3394\n",
      "Epoch 10/10\n",
      "327/327 [==============================] - 7s 22ms/step - loss: 1.1663 - acc: 0.5443 - val_loss: 1.3404 - val_acc: 0.3486\n"
     ]
    }
   ],
   "source": [
    "#https://machinelearningmastery.com/grid-search-hyperparameters-deep-learning-models-python-keras/\n",
    "\n",
    "#params for grid search\n",
    "param_grid = {\n",
    "    \n",
    "    #training params\n",
    "    \"epochs\":list(range(10,11,5)),   \n",
    "    \"batch_size\":[2**i for i in range(7,8)], #powers of 2\n",
    "    \"validation_split\":[0.25,],\n",
    "    \"shuffle\":[True],\n",
    "    \n",
    "    #model structural hyperparams\n",
    "    #these depend on args for build_fn\n",
    "    \"dropout_rate\":[0.1],\n",
    "    #\"optimizer\":['SGD', 'RMSprop', 'Adagrad', 'Adam'],\n",
    "    #\"activation\":['relu', 'softmax'],\n",
    "    #Learning rate\n",
    "    #momentum etc.\n",
    "    #init_mode #initial weightings\n",
    "}\n",
    "\n",
    "#create gridsearch object\n",
    "grid = GridSearchCV(estimator=model,\n",
    "                   param_grid=param_grid,\n",
    "                   n_jobs=1,\n",
    "                   #verbose=1,\n",
    "                   refit=True,\n",
    "                   return_train_score=True)\n",
    "\n",
    "#run gridsearch\n",
    "gs_clfs = grid.fit(train_rus, \n",
    "                   train_labels_rus_wide,\n",
    "                  )"
   ]
  },
  {
   "cell_type": "code",
   "execution_count": 10,
   "metadata": {
    "_cell_guid": "ca613169-4b41-e9d5-27c7-6629f8e035c8",
    "_uuid": "28050bad88268405c6bbfcd42095a75bb53cc847"
   },
   "outputs": [
    {
     "data": {
      "text/plain": [
       "{'batch_size': 128,\n",
       " 'dropout_rate': 0.1,\n",
       " 'epochs': 10,\n",
       " 'validation_split': 0.25}"
      ]
     },
     "execution_count": 10,
     "metadata": {},
     "output_type": "execute_result"
    }
   ],
   "source": [
    "#some printables re:gridsearch\n",
    "pd.DataFrame(gs_clfs.cv_results_)\n",
    "gs_clfs.best_estimator_.get_params()\n",
    "gs_clfs.best_params_\n"
   ]
  },
  {
   "cell_type": "code",
   "execution_count": 11,
   "metadata": {},
   "outputs": [
    {
     "name": "stdout",
     "output_type": "stream",
     "text": [
      "Train on 327 samples, validate on 109 samples\n",
      "Epoch 1/10\n",
      "327/327 [==============================] - 8s 25ms/step - loss: 1.4525 - acc: 0.2661 - val_loss: 1.4091 - val_acc: 0.2661\n",
      "Epoch 2/10\n",
      "327/327 [==============================] - 7s 22ms/step - loss: 1.4234 - acc: 0.2630 - val_loss: 1.4329 - val_acc: 0.2110\n",
      "Epoch 3/10\n",
      "327/327 [==============================] - 8s 23ms/step - loss: 1.3328 - acc: 0.3364 - val_loss: 1.3759 - val_acc: 0.2477\n",
      "Epoch 4/10\n",
      "327/327 [==============================] - 8s 24ms/step - loss: 1.3216 - acc: 0.3486 - val_loss: 1.3549 - val_acc: 0.3578\n",
      "Epoch 5/10\n",
      "327/327 [==============================] - 7s 22ms/step - loss: 1.2647 - acc: 0.4679 - val_loss: 1.3893 - val_acc: 0.2936\n",
      "Epoch 6/10\n",
      "327/327 [==============================] - 7s 23ms/step - loss: 1.2361 - acc: 0.4098 - val_loss: 1.3650 - val_acc: 0.2936\n",
      "Epoch 7/10\n",
      "327/327 [==============================] - 7s 22ms/step - loss: 1.1916 - acc: 0.5352 - val_loss: 1.3254 - val_acc: 0.3578\n",
      "Epoch 8/10\n",
      "327/327 [==============================] - 7s 22ms/step - loss: 1.1549 - acc: 0.5749 - val_loss: 1.3649 - val_acc: 0.3303\n",
      "Epoch 9/10\n",
      "327/327 [==============================] - 7s 23ms/step - loss: 1.1300 - acc: 0.5015 - val_loss: 1.3247 - val_acc: 0.4128\n",
      "Epoch 10/10\n",
      "327/327 [==============================] - 7s 23ms/step - loss: 1.0728 - acc: 0.6024 - val_loss: 1.3116 - val_acc: 0.3853\n"
     ]
    }
   ],
   "source": [
    "#rebuild model without sklearn wrapper (its easier to work with).\n",
    "dropout_rate = gs_clfs.best_params_['dropout_rate']\n",
    "params = {k:v for k,v in gs_clfs.best_params_.items() if k!='dropout_rate'}\n",
    "model = build_fn(dropout_rate=dropout_rate)\n",
    "history = gs_clfs.best_estimator_.fit(train_rus, train_labels_rus_wide, \n",
    "                                      **params,\n",
    "                                      verbose=1, )\n"
   ]
  },
  {
   "cell_type": "code",
   "execution_count": 12,
   "metadata": {},
   "outputs": [
    {
     "data": {
      "image/png": "[encoded data removed]",
      "text/plain": [
       "<Figure size 432x288 with 1 Axes>"
      ]
     },
     "metadata": {},
     "output_type": "display_data"
    }
   ],
   "source": [
    "#plot loss curves\n",
    "loss = history.history['loss']\n",
    "val_loss = history.history['val_loss']\n",
    "\n",
    "plt.xlabel('Epochs')\n",
    "plt.ylabel('Loss')\n",
    "plt.plot(loss, 'blue', label='Training Loss')\n",
    "plt.plot(val_loss, 'green', label='Validation Loss')\n",
    "plt.xticks(range(0,params['epochs'])[0::2])\n",
    "plt.legend()\n",
    "plt.show()"
   ]
  },
  {
   "cell_type": "code",
   "execution_count": 13,
   "metadata": {},
   "outputs": [
    {
     "name": "stdout",
     "output_type": "stream",
     "text": [
      "****** Test Data ********\n",
      "770/770 [==============================] - 9s 12ms/step\n",
      "             precision    recall  f1-score   support\n",
      "\n",
      "          0       0.68      0.43      0.53       351\n",
      "          1       0.07      0.35      0.12        26\n",
      "          2       0.62      0.45      0.52       372\n",
      "          3       0.06      0.43      0.10        21\n",
      "\n",
      "avg / total       0.61      0.44      0.50       770\n",
      "\n",
      "Confusion Matrix\n",
      "[[151  47  95  58]\n",
      " [  4   9   7   6]\n",
      " [ 64  60 169  79]\n",
      " [  2   7   3   9]]\n",
      "0.438961038961\n"
     ]
    }
   ],
   "source": [
    "#Evaluate with Test dataset\n",
    "\n",
    "print(\"****** Test Data ********\")\n",
    "# Make a set of predictions for the validation data\n",
    "#pred = gs_clfs.best_estimator_.predict_classes(test) for keras style\n",
    "pred = gs_clfs.best_estimator_.predict(test)  #for estimator objects\n",
    "\n",
    "# Print performance details\n",
    "print(metrics.classification_report(test_labels, pred))\n",
    "\n",
    "# Print confusion matrix\n",
    "print(\"Confusion Matrix\")\n",
    "print(metrics.confusion_matrix(test_labels, pred))\n",
    "#display(pd.crosstab(test_labels, list(pred), margins=True))\n",
    "\n",
    "#Accuracy\n",
    "print(metrics.accuracy_score(test_labels, pred))"
   ]
  },
  {
   "cell_type": "code",
   "execution_count": 14,
   "metadata": {},
   "outputs": [],
   "source": [
    "#save a model\n",
    "filepath = \"player.mod\"\n",
    "model.save(filepath)\n",
    "\n",
    "#load a model\n",
    "model = keras.models.load_model(\"player.mod\")"
   ]
  }
 ],
 "metadata": {
  "_change_revision": 0,
  "_is_fork": false,
  "kernelspec": {
   "display_name": "Python 3",
   "language": "python",
   "name": "python3"
  },
  "language_info": {
   "codemirror_mode": {
    "name": "ipython",
    "version": 3
   },
   "file_extension": ".py",
   "mimetype": "text/x-python",
   "name": "python",
   "nbconvert_exporter": "python",
   "pygments_lexer": "ipython3",
   "version": "3.5.4"
  }
 },
 "nbformat": 4,
 "nbformat_minor": 1
}
