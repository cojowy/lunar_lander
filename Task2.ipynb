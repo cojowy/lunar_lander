{
 "cells": [
  {
   "cell_type": "code",
   "execution_count": 1,
   "metadata": {
    "_cell_guid": "3d458c15-e131-f3c4-f756-843d6454bb37",
    "_uuid": "76c68c2752f5c4a44660ccadda2168aaeca3930d"
   },
   "outputs": [
    {
     "name": "stderr",
     "output_type": "stream",
     "text": [
      "Using TensorFlow backend.\n"
     ]
    }
   ],
   "source": [
    "import os \n",
    "import cv2\n",
    "import random\n",
    "import numpy as np\n",
    "import pandas as pd\n",
    "\n",
    "import matplotlib.pyplot as plt\n",
    "%matplotlib inline \n",
    "from matplotlib import ticker\n",
    "import seaborn as sns\n",
    "\n",
    "from sklearn.model_selection import train_test_split\n",
    "from sklearn import metrics\n",
    "from sklearn.model_selection import  GridSearchCV\n",
    "from imblearn.under_sampling import RandomUnderSampler\n",
    "from sklearn.utils import shuffle\n",
    "\n",
    "import keras\n",
    "from keras.models import Sequential\n",
    "from keras.wrappers.scikit_learn import KerasClassifier\n",
    "from keras.layers import Input, Dropout, Flatten, Conv2D, MaxPooling2D, Dense, Activation\n",
    "from keras.optimizers import RMSprop, adam\n",
    "from keras.utils import np_utils\n",
    "\n",
    "from keras import backend as K\n",
    "K.set_image_data_format('channels_first')"
   ]
  },
  {
   "cell_type": "code",
   "execution_count": 2,
   "metadata": {},
   "outputs": [
    {
     "name": "stdout",
     "output_type": "stream",
     "text": [
      "\u001b[0m\u001b[01;34m2018-04-21-20-41-25\u001b[0m/\r\n"
     ]
    }
   ],
   "source": [
    "ls ./frames"
   ]
  },
  {
   "cell_type": "code",
   "execution_count": 3,
   "metadata": {
    "_cell_guid": "663d335e-1b84-a8cb-19ee-8f04839cf4e5",
    "_uuid": "16ddc310f7e96e68f1a5cb8ef796be3afdbb33f8"
   },
   "outputs": [
    {
     "name": "stdout",
     "output_type": "stream",
     "text": [
      "Processed 0 of 3848\n",
      "Processed 1000 of 3848\n",
      "Processed 2000 of 3848\n",
      "Processed 3000 of 3848\n",
      "Train shape: (3848, 1, 64, 64)\n"
     ]
    }
   ],
   "source": [
    "# Set up some parmaeters for data loading\n",
    "\n",
    "#Plug in your training dir\n",
    "\n",
    "#Other user\n",
    "#TRAIN_DIR = './frames/something..etc/'\n",
    "\n",
    "#Andy\n",
    "TRAIN_DIR = './frames/2018-04-21-20-41-25/'\n",
    "\n",
    "#Conor\n",
    "#TRAIN_DIR = './frames/something..etc/'\n",
    "\n",
    "sample_rate = 0.1\n",
    "ROWS = 64\n",
    "COLS = 64\n",
    "CHANNELS = 1\n",
    "\n",
    "# generate filenames from the data folder and do sampling\n",
    "image_filenames = [TRAIN_DIR+i for i in os.listdir(TRAIN_DIR) if not i.startswith('.')] # use this for full dataset\n",
    "image_filenames = random.sample(image_filenames, int(len(image_filenames)*sample_rate))\n",
    "\n",
    "# Create a data array for image data\n",
    "count = len(image_filenames)\n",
    "data = np.ndarray((count, CHANNELS, ROWS, COLS), dtype=np.float)\n",
    "\n",
    "# Iterate throuigh the filenames and for each one load the image, resize and normalise\n",
    "for i, image_file in enumerate(image_filenames):\n",
    "    image = cv2.imread(image_file, cv2.IMREAD_GRAYSCALE)\n",
    "    image = cv2.resize(image, (ROWS, COLS), interpolation=cv2.INTER_CUBIC)        \n",
    "    data[i] = image\n",
    "    data[i] = data[i]/255\n",
    "    if i%1000 == 0: print('Processed {} of {}'.format(i, count))\n",
    "\n",
    "print(\"Train shape: {}\".format(data.shape))"
   ]
  },
  {
   "cell_type": "code",
   "execution_count": 4,
   "metadata": {
    "_cell_guid": "c0f2fbf6-8d78-7d42-6579-5486a36c1e60",
    "_uuid": "ba1fa53e4ef436c3e26d0ef7b8d3f327db9ae6c0",
    "scrolled": true
   },
   "outputs": [
    {
     "data": {
      "text/plain": [
       "<matplotlib.axes._subplots.AxesSubplot at 0x7f56b45b5c50>"
      ]
     },
     "execution_count": 4,
     "metadata": {},
     "output_type": "execute_result"
    },
    {
     "data": {
      "image/png": "[encoded data removed]",
      "text/plain": [
       "<Figure size 432x288 with 1 Axes>"
      ]
     },
     "metadata": {},
     "output_type": "display_data"
    }
   ],
   "source": [
    "# Extract the lables from the last characters in the filename\n",
    "labels = []\n",
    "for i in image_filenames:\n",
    "    l = i[-6:-5]\n",
    "    labels.append(int(l))\n",
    "        \n",
    "# Count the number of clases\n",
    "num_classes = len(set(labels))\n",
    "\n",
    "# convert to binary encoded labels\n",
    "labels_wide = keras.utils.to_categorical(labels, num_classes)\n",
    "\n",
    "# Plot a bar plot of the \n",
    "sns.countplot(labels)"
   ]
  },
  {
   "cell_type": "code",
   "execution_count": 5,
   "metadata": {},
   "outputs": [
    {
     "name": "stdout",
     "output_type": "stream",
     "text": [
      "1\n"
     ]
    },
    {
     "data": {
      "image/png": "[encoded data removed]",
      "text/plain": [
       "<Figure size 216x216 with 1 Axes>"
      ]
     },
     "metadata": {},
     "output_type": "display_data"
    },
    {
     "name": "stdout",
     "output_type": "stream",
     "text": [
      "0\n"
     ]
    },
    {
     "data": {
      "image/png": "[encoded data removed]",
      "text/plain": [
       "<Figure size 216x216 with 1 Axes>"
      ]
     },
     "metadata": {},
     "output_type": "display_data"
    },
    {
     "name": "stdout",
     "output_type": "stream",
     "text": [
      "2\n"
     ]
    },
    {
     "data": {
      "image/png": "[encoded data removed]",
      "text/plain": [
       "<Figure size 216x216 with 1 Axes>"
      ]
     },
     "metadata": {},
     "output_type": "display_data"
    },
    {
     "name": "stdout",
     "output_type": "stream",
     "text": [
      "0\n"
     ]
    },
    {
     "data": {
      "image/png": "[encoded data removed]",
      "text/plain": [
       "<Figure size 216x216 with 1 Axes>"
      ]
     },
     "metadata": {},
     "output_type": "display_data"
    },
    {
     "name": "stdout",
     "output_type": "stream",
     "text": [
      "0\n"
     ]
    },
    {
     "data": {
      "image/png": "[encoded data removed]",
      "text/plain": [
       "<Figure size 216x216 with 1 Axes>"
      ]
     },
     "metadata": {},
     "output_type": "display_data"
    }
   ],
   "source": [
    "#show some screens\n",
    "for i in range(0,5):\n",
    "    idx = random.randint(0, len(labels))\n",
    "    print(labels[idx])\n",
    "    plt.figure(figsize=(3,3))\n",
    "    plt.imshow(data[idx][0], cmap='gray')\n",
    "    plt.show()"
   ]
  },
  {
   "cell_type": "code",
   "execution_count": 6,
   "metadata": {},
   "outputs": [],
   "source": [
    "#train test split\n",
    "train, test, train_labels, test_labels = train_test_split(data, labels, random_state=0, test_size = 0.2, train_size = 0.8)\n",
    "train_labels_wide = keras.utils.to_categorical(train_labels, num_classes)\n",
    "test_labels_wide = keras.utils.to_categorical(test_labels, num_classes)"
   ]
  },
  {
   "cell_type": "code",
   "execution_count": 7,
   "metadata": {},
   "outputs": [
    {
     "data": {
      "image/png": "[encoded data removed]",
      "text/plain": [
       "<Figure size 432x288 with 1 Axes>"
      ]
     },
     "metadata": {},
     "output_type": "display_data"
    }
   ],
   "source": [
    "# Apply the random under-sampling\n",
    "rus = RandomUnderSampler(return_indices=True)\n",
    "train_rus, train_labels_rus, idx_resampled = rus.fit_sample(train.reshape(len(train), ROWS*COLS*CHANNELS), train_labels)\n",
    "train_rus, train_labels_rus = shuffle(train_rus, train_labels_rus)\n",
    "train_rus = train_rus.reshape(len(train_rus), CHANNELS,ROWS, COLS)\n",
    "sns.countplot(train_labels_rus)\n",
    "train_labels_rus_wide = keras.utils.to_categorical(train_labels_rus, num_classes)"
   ]
  },
  {
   "cell_type": "code",
   "execution_count": 8,
   "metadata": {
    "_cell_guid": "4c477612-41d3-3112-5176-3c4ad9633080",
    "_uuid": "f316f98f6d395fe3898e7f0465e21cd8e7562b21",
    "scrolled": true
   },
   "outputs": [],
   "source": [
    "#Build Keras Models\n",
    "\n",
    "#build Keras model\n",
    "def build_fn(dropout_rate=0.0):\n",
    "    model = Sequential()\n",
    "    model.add(Conv2D(32, (3, 3), padding='same', input_shape=(CHANNELS, ROWS, COLS), activation='relu'))\n",
    "    model.add(MaxPooling2D(pool_size=(2, 2)))\n",
    "    model.add(Flatten())\n",
    "    model.add(Dense(64, activation='relu'))\n",
    "    model.add(Dropout(dropout_rate))\n",
    "    model.add(Dense(num_classes, activation = 'softmax'))\n",
    "    model.compile(loss='categorical_crossentropy', optimizer=adam(lr=1e-3), metrics=['accuracy'])\n",
    "    return model\n",
    "\n",
    "#wrap Keras model for sklearn API\n",
    "#model = KerasClassifier(build_fn=func_name, **func_kwargs, verbose=1)\n",
    "model = KerasClassifier(build_fn=build_fn, dropout_rate=0.1, verbose=1)"
   ]
  },
  {
   "cell_type": "code",
   "execution_count": 9,
   "metadata": {},
   "outputs": [
    {
     "name": "stdout",
     "output_type": "stream",
     "text": [
      "Train on 223 samples, validate on 75 samples\n",
      "Epoch 1/10\n",
      "223/223 [==============================] - 9s 42ms/step - loss: 1.7197 - acc: 0.2287 - val_loss: 1.4715 - val_acc: 0.3067\n",
      "Epoch 2/10\n",
      "223/223 [==============================] - 9s 42ms/step - loss: 1.5088 - acc: 0.2152 - val_loss: 1.5340 - val_acc: 0.2267\n",
      "Epoch 3/10\n",
      "223/223 [==============================] - 7s 31ms/step - loss: 1.4289 - acc: 0.3049 - val_loss: 1.4918 - val_acc: 0.2133\n",
      "Epoch 4/10\n",
      "223/223 [==============================] - 8s 36ms/step - loss: 1.3722 - acc: 0.2825 - val_loss: 1.4273 - val_acc: 0.2933\n",
      "Epoch 5/10\n",
      "223/223 [==============================] - 11s 48ms/step - loss: 1.3089 - acc: 0.3587 - val_loss: 1.3833 - val_acc: 0.2533\n",
      "Epoch 6/10\n",
      "223/223 [==============================] - 7s 33ms/step - loss: 1.2914 - acc: 0.3946 - val_loss: 1.3775 - val_acc: 0.3600\n",
      "Epoch 7/10\n",
      "223/223 [==============================] - 7s 32ms/step - loss: 1.2525 - acc: 0.3991 - val_loss: 1.3420 - val_acc: 0.3200\n",
      "Epoch 8/10\n",
      "223/223 [==============================] - 7s 33ms/step - loss: 1.2527 - acc: 0.4081 - val_loss: 1.3331 - val_acc: 0.3200\n",
      "Epoch 9/10\n",
      "223/223 [==============================] - 7s 32ms/step - loss: 1.2279 - acc: 0.4305 - val_loss: 1.3373 - val_acc: 0.4133\n",
      "Epoch 10/10\n",
      "223/223 [==============================] - 9s 41ms/step - loss: 1.2060 - acc: 0.4619 - val_loss: 1.3315 - val_acc: 0.3867\n",
      "150/150 [==============================] - 2s 16ms/step\n",
      "298/298 [==============================] - 5s 16ms/step\n",
      "Train on 224 samples, validate on 75 samples\n",
      "Epoch 1/10\n",
      "224/224 [==============================] - 7s 33ms/step - loss: 1.4127 - acc: 0.2589 - val_loss: 1.5575 - val_acc: 0.2800\n",
      "Epoch 2/10\n",
      "224/224 [==============================] - 8s 34ms/step - loss: 1.4426 - acc: 0.3259 - val_loss: 1.4790 - val_acc: 0.2000\n",
      "Epoch 3/10\n",
      "224/224 [==============================] - 7s 32ms/step - loss: 1.3338 - acc: 0.3795 - val_loss: 1.4247 - val_acc: 0.2533\n",
      "Epoch 4/10\n",
      "224/224 [==============================] - 7s 32ms/step - loss: 1.2867 - acc: 0.4018 - val_loss: 1.3751 - val_acc: 0.2933\n",
      "Epoch 5/10\n",
      "224/224 [==============================] - 7s 32ms/step - loss: 1.2464 - acc: 0.3705 - val_loss: 1.3626 - val_acc: 0.2933\n",
      "Epoch 6/10\n",
      "224/224 [==============================] - 7s 31ms/step - loss: 1.1929 - acc: 0.5268 - val_loss: 1.3821 - val_acc: 0.3333\n",
      "Epoch 7/10\n",
      "224/224 [==============================] - 7s 32ms/step - loss: 1.1665 - acc: 0.5804 - val_loss: 1.3820 - val_acc: 0.3067\n",
      "Epoch 8/10\n",
      "224/224 [==============================] - 8s 37ms/step - loss: 1.1022 - acc: 0.6518 - val_loss: 1.3600 - val_acc: 0.3200\n",
      "Epoch 9/10\n",
      "224/224 [==============================] - 7s 32ms/step - loss: 1.0738 - acc: 0.6295 - val_loss: 1.3399 - val_acc: 0.3467\n",
      "Epoch 10/10\n",
      "224/224 [==============================] - 7s 32ms/step - loss: 1.0413 - acc: 0.6295 - val_loss: 1.3478 - val_acc: 0.3200\n",
      "149/149 [==============================] - 2s 16ms/step\n",
      "299/299 [==============================] - 5s 16ms/step\n",
      "Train on 224 samples, validate on 75 samples\n",
      "Epoch 1/10\n",
      "224/224 [==============================] - 7s 33ms/step - loss: 1.7644 - acc: 0.2455 - val_loss: 2.1063 - val_acc: 0.2933\n",
      "Epoch 2/10\n",
      "224/224 [==============================] - 7s 33ms/step - loss: 1.9803 - acc: 0.2589 - val_loss: 1.8123 - val_acc: 0.2267\n",
      "Epoch 3/10\n",
      "224/224 [==============================] - 7s 31ms/step - loss: 1.6725 - acc: 0.3125 - val_loss: 1.7106 - val_acc: 0.2000\n",
      "Epoch 4/10\n",
      "224/224 [==============================] - 8s 37ms/step - loss: 1.5084 - acc: 0.2679 - val_loss: 1.4853 - val_acc: 0.2667\n",
      "Epoch 5/10\n",
      "224/224 [==============================] - 7s 31ms/step - loss: 1.3479 - acc: 0.3527 - val_loss: 1.3776 - val_acc: 0.3600\n",
      "Epoch 6/10\n",
      "224/224 [==============================] - 7s 32ms/step - loss: 1.3157 - acc: 0.3482 - val_loss: 1.3262 - val_acc: 0.4133\n",
      "Epoch 7/10\n",
      "224/224 [==============================] - 7s 32ms/step - loss: 1.2867 - acc: 0.3839 - val_loss: 1.3706 - val_acc: 0.3600\n",
      "Epoch 8/10\n",
      "224/224 [==============================] - 7s 32ms/step - loss: 1.3134 - acc: 0.3304 - val_loss: 1.3477 - val_acc: 0.3867\n",
      "Epoch 9/10\n",
      "224/224 [==============================] - 7s 32ms/step - loss: 1.2744 - acc: 0.3661 - val_loss: 1.3082 - val_acc: 0.4133\n",
      "Epoch 10/10\n",
      "224/224 [==============================] - 7s 32ms/step - loss: 1.2061 - acc: 0.4554 - val_loss: 1.3066 - val_acc: 0.3733\n",
      "149/149 [==============================] - 2s 16ms/step\n",
      "299/299 [==============================] - 5s 16ms/step\n",
      "Train on 336 samples, validate on 112 samples\n",
      "Epoch 1/10\n",
      "336/336 [==============================] - 11s 34ms/step - loss: 1.7359 - acc: 0.2470 - val_loss: 1.4582 - val_acc: 0.1786\n",
      "Epoch 2/10\n",
      "336/336 [==============================] - 11s 31ms/step - loss: 1.3971 - acc: 0.2946 - val_loss: 1.4150 - val_acc: 0.1786\n",
      "Epoch 3/10\n",
      "336/336 [==============================] - 11s 31ms/step - loss: 1.3644 - acc: 0.3214 - val_loss: 1.4028 - val_acc: 0.2768\n",
      "Epoch 4/10\n",
      "336/336 [==============================] - 10s 31ms/step - loss: 1.3554 - acc: 0.3006 - val_loss: 1.4063 - val_acc: 0.2679\n",
      "Epoch 5/10\n",
      "336/336 [==============================] - 11s 33ms/step - loss: 1.3518 - acc: 0.3036 - val_loss: 1.4050 - val_acc: 0.2143\n",
      "Epoch 6/10\n",
      "336/336 [==============================] - 11s 32ms/step - loss: 1.3485 - acc: 0.3065 - val_loss: 1.4048 - val_acc: 0.2143\n",
      "Epoch 7/10\n",
      "336/336 [==============================] - 11s 32ms/step - loss: 1.3379 - acc: 0.3393 - val_loss: 1.4050 - val_acc: 0.1786\n",
      "Epoch 8/10\n",
      "336/336 [==============================] - 13s 37ms/step - loss: 1.3237 - acc: 0.3423 - val_loss: 1.4151 - val_acc: 0.2143\n",
      "Epoch 9/10\n",
      "336/336 [==============================] - 11s 32ms/step - loss: 1.3087 - acc: 0.3452 - val_loss: 1.4441 - val_acc: 0.2500\n",
      "Epoch 10/10\n",
      "336/336 [==============================] - 11s 32ms/step - loss: 1.3034 - acc: 0.3274 - val_loss: 1.4348 - val_acc: 0.2589\n"
     ]
    }
   ],
   "source": [
    "#https://machinelearningmastery.com/grid-search-hyperparameters-deep-learning-models-python-keras/\n",
    "\n",
    "#params for grid search\n",
    "param_grid = {\n",
    "    \n",
    "    #training params\n",
    "    \"epochs\":list(range(10,11,5)),   \n",
    "    \"batch_size\":[2**i for i in range(7,8)], #powers of 2\n",
    "    \"validation_split\":[0.25,],\n",
    "    \"shuffle\":[True],\n",
    "    \n",
    "    #model structural hyperparams\n",
    "    #these depend on args for build_fn\n",
    "    \"dropout_rate\":[0.1],\n",
    "    #\"optimizer\":['SGD', 'RMSprop', 'Adagrad', 'Adam'],\n",
    "    #\"activation\":['relu', 'softmax'],\n",
    "    #Learning rate\n",
    "    #momentum etc.\n",
    "    #init_mode #initial weightings\n",
    "}\n",
    "\n",
    "#create gridsearch object\n",
    "grid = GridSearchCV(estimator=model,\n",
    "                   param_grid=param_grid,\n",
    "                   n_jobs=1,\n",
    "                   #verbose=1,\n",
    "                   refit=True,\n",
    "                   return_train_score=True)\n",
    "\n",
    "#run gridsearch\n",
    "gs_clfs = grid.fit(train_rus, \n",
    "                   train_labels_rus_wide,\n",
    "                  )"
   ]
  },
  {
   "cell_type": "code",
   "execution_count": 10,
   "metadata": {
    "_cell_guid": "ca613169-4b41-e9d5-27c7-6629f8e035c8",
    "_uuid": "28050bad88268405c6bbfcd42095a75bb53cc847"
   },
   "outputs": [
    {
     "data": {
      "text/plain": [
       "{'batch_size': 128,\n",
       " 'dropout_rate': 0.1,\n",
       " 'epochs': 10,\n",
       " 'shuffle': True,\n",
       " 'validation_split': 0.25}"
      ]
     },
     "execution_count": 10,
     "metadata": {},
     "output_type": "execute_result"
    }
   ],
   "source": [
    "#some printables re:gridsearch\n",
    "pd.DataFrame(gs_clfs.cv_results_)\n",
    "gs_clfs.best_estimator_.get_params()\n",
    "gs_clfs.best_params_\n"
   ]
  },
  {
   "cell_type": "code",
   "execution_count": 11,
   "metadata": {},
   "outputs": [
    {
     "name": "stdout",
     "output_type": "stream",
     "text": [
      "****** Test Data ********\n",
      "770/770 [==============================] - 15s 20ms/step\n",
      "             precision    recall  f1-score   support\n",
      "\n",
      "          0       0.53      0.56      0.54       375\n",
      "          1       0.00      0.00      0.00        16\n",
      "          2       0.47      0.12      0.19       351\n",
      "          3       0.05      0.46      0.08        28\n",
      "\n",
      "avg / total       0.47      0.34      0.35       770\n",
      "\n",
      "Confusion Matrix\n",
      "[[209   0  46 120]\n",
      " [  4   0   1  11]\n",
      " [171   1  42 137]\n",
      " [ 14   0   1  13]]\n",
      "0.342857142857\n"
     ]
    }
   ],
   "source": [
    "#Evaluate with Test dataset\n",
    "\n",
    "print(\"****** Test Data ********\")\n",
    "# Make a set of predictions for the validation data\n",
    "#pred = gs_clfs.best_estimator_.predict_classes(test) for keras style\n",
    "pred = gs_clfs.best_estimator_.predict(test)  #for estimator objects\n",
    "\n",
    "# Print performance details\n",
    "print(metrics.classification_report(test_labels, pred))\n",
    "\n",
    "# Print confusion matrix\n",
    "print(\"Confusion Matrix\")\n",
    "print(metrics.confusion_matrix(test_labels, pred))\n",
    "#display(pd.crosstab(test_labels, list(pred), margins=True))\n",
    "\n",
    "#Accuracy\n",
    "print(metrics.accuracy_score(test_labels, pred))\n"
   ]
  },
  {
   "cell_type": "code",
   "execution_count": 12,
   "metadata": {},
   "outputs": [
    {
     "name": "stdout",
     "output_type": "stream",
     "text": [
      "Train on 336 samples, validate on 112 samples\n",
      "Epoch 1/10\n",
      "336/336 [==============================] - 12s 37ms/step - loss: 1.6057 - acc: 0.2440 - val_loss: 1.3981 - val_acc: 0.2589\n",
      "Epoch 2/10\n",
      "336/336 [==============================] - 12s 34ms/step - loss: 1.3974 - acc: 0.2530 - val_loss: 1.5200 - val_acc: 0.2946\n",
      "Epoch 3/10\n",
      "336/336 [==============================] - 11s 32ms/step - loss: 1.3352 - acc: 0.3125 - val_loss: 1.3894 - val_acc: 0.2768\n",
      "Epoch 4/10\n",
      "336/336 [==============================] - 11s 32ms/step - loss: 1.3264 - acc: 0.3839 - val_loss: 1.3813 - val_acc: 0.2589\n",
      "Epoch 5/10\n",
      "336/336 [==============================] - 11s 32ms/step - loss: 1.2521 - acc: 0.4107 - val_loss: 1.4667 - val_acc: 0.2054\n",
      "Epoch 6/10\n",
      "336/336 [==============================] - 11s 32ms/step - loss: 1.2141 - acc: 0.4345 - val_loss: 1.3849 - val_acc: 0.2857\n",
      "Epoch 7/10\n",
      "336/336 [==============================] - 11s 34ms/step - loss: 1.1881 - acc: 0.4821 - val_loss: 1.3973 - val_acc: 0.3214\n",
      "Epoch 8/10\n",
      "336/336 [==============================] - 10s 31ms/step - loss: 1.1568 - acc: 0.4702 - val_loss: 1.4181 - val_acc: 0.2857\n",
      "Epoch 9/10\n",
      "336/336 [==============================] - 12s 35ms/step - loss: 1.1204 - acc: 0.5714 - val_loss: 1.3217 - val_acc: 0.3661\n",
      "Epoch 10/10\n",
      "336/336 [==============================] - 12s 34ms/step - loss: 1.0842 - acc: 0.5774 - val_loss: 1.3489 - val_acc: 0.3214\n"
     ]
    }
   ],
   "source": [
    "#rebuild model without sklearn wrapper (its easier to work with).\n",
    "dropout_rate = gs_clfs.best_params_['dropout_rate']\n",
    "params = {k:v for k,v in gs_clfs.best_params_.items() if k!='dropout_rate'}\n",
    "model = build_fn(dropout_rate=dropout_rate)\n",
    "history = model.fit(train_rus, train_labels_rus_wide, \n",
    "                    **params,\n",
    "                    verbose=1, )\n"
   ]
  },
  {
   "cell_type": "code",
   "execution_count": 13,
   "metadata": {},
   "outputs": [
    {
     "data": {
      "image/png": "[encoded data removed]",
      "text/plain": [
       "<Figure size 432x288 with 1 Axes>"
      ]
     },
     "metadata": {},
     "output_type": "display_data"
    }
   ],
   "source": [
    "#plot loss curves\n",
    "loss = history.history['loss']\n",
    "val_loss = history.history['val_loss']\n",
    "\n",
    "plt.xlabel('Epochs')\n",
    "plt.ylabel('Loss')\n",
    "plt.plot(loss, 'blue', label='Training Loss')\n",
    "plt.plot(val_loss, 'green', label='Validation Loss')\n",
    "plt.xticks(range(0,params['epochs'])[0::2])\n",
    "plt.legend()\n",
    "plt.show()"
   ]
  },
  {
   "cell_type": "code",
   "execution_count": 14,
   "metadata": {},
   "outputs": [
    {
     "name": "stdout",
     "output_type": "stream",
     "text": [
      "****** Test Data ********\n",
      "             precision    recall  f1-score   support\n",
      "\n",
      "          0       0.70      0.45      0.55       375\n",
      "          1       0.03      0.62      0.06        16\n",
      "          2       0.59      0.27      0.37       351\n",
      "          3       0.03      0.07      0.04        28\n",
      "\n",
      "avg / total       0.61      0.36      0.44       770\n",
      "\n",
      "Confusion Matrix\n",
      "[[170 123  60  22]\n",
      " [  4  10   1   1]\n",
      " [ 66 147  96  42]\n",
      " [  4  15   7   2]]\n",
      "0.361038961039\n"
     ]
    }
   ],
   "source": [
    "#Evaluate with Test dataset\n",
    "\n",
    "print(\"****** Test Data ********\")\n",
    "# Make a set of predictions for the validation data\n",
    "#pred = gs_clfs.best_estimator_.predict_classes(test) for keras style\n",
    "pred = model.predict_classes(test)  #for estimator objects\n",
    "\n",
    "# Print performance details\n",
    "print(metrics.classification_report(test_labels, pred))\n",
    "\n",
    "# Print confusion matrix\n",
    "print(\"Confusion Matrix\")\n",
    "print(metrics.confusion_matrix(test_labels, pred))\n",
    "#display(pd.crosstab(test_labels, list(pred), margins=True))\n",
    "\n",
    "#Accuracy\n",
    "print(metrics.accuracy_score(test_labels, pred))"
   ]
  },
  {
   "cell_type": "code",
   "execution_count": 15,
   "metadata": {},
   "outputs": [],
   "source": [
    "#save a model\n",
    "filepath = \"player.mod\"\n",
    "model.save(filepath)\n",
    "\n",
    "#load a model\n",
    "model = keras.models.load_model(\"player.mod\")"
   ]
  },
  {
   "cell_type": "code",
   "execution_count": 16,
   "metadata": {},
   "outputs": [],
   "source": [
    "#load a model\n",
    "model = keras.models.load_model(\"player.mod\")"
   ]
  },
  {
   "cell_type": "code",
   "execution_count": 17,
   "metadata": {},
   "outputs": [
    {
     "name": "stdout",
     "output_type": "stream",
     "text": [
      "****** Test Data ********\n",
      "             precision    recall  f1-score   support\n",
      "\n",
      "          0       0.70      0.45      0.55       375\n",
      "          1       0.03      0.62      0.06        16\n",
      "          2       0.59      0.27      0.37       351\n",
      "          3       0.03      0.07      0.04        28\n",
      "\n",
      "avg / total       0.61      0.36      0.44       770\n",
      "\n",
      "Confusion Matrix\n",
      "[[170 123  60  22]\n",
      " [  4  10   1   1]\n",
      " [ 66 147  96  42]\n",
      " [  4  15   7   2]]\n",
      "0.361038961039\n"
     ]
    }
   ],
   "source": [
    "#Evaluate with Test dataset\n",
    "\n",
    "print(\"****** Test Data ********\")\n",
    "# Make a set of predictions for the validation data\n",
    "#pred = gs_clfs.best_estimator_.predict_classes(test) for keras style\n",
    "pred = model.predict_classes(test)  #for estimator objects\n",
    "\n",
    "# Print performance details\n",
    "print(metrics.classification_report(test_labels, pred))\n",
    "\n",
    "# Print confusion matrix\n",
    "print(\"Confusion Matrix\")\n",
    "print(metrics.confusion_matrix(test_labels, pred))\n",
    "#display(pd.crosstab(test_labels, list(pred), margins=True))\n",
    "\n",
    "#Accuracy\n",
    "print(metrics.accuracy_score(test_labels, pred))"
   ]
  },
  {
   "cell_type": "code",
   "execution_count": null,
   "metadata": {},
   "outputs": [],
   "source": []
  },
  {
   "cell_type": "code",
   "execution_count": null,
   "metadata": {},
   "outputs": [],
   "source": []
  }
 ],
 "metadata": {
  "_change_revision": 0,
  "_is_fork": false,
  "kernelspec": {
   "display_name": "Python 3",
   "language": "python",
   "name": "python3"
  },
  "language_info": {
   "codemirror_mode": {
    "name": "ipython",
    "version": 3
   },
   "file_extension": ".py",
   "mimetype": "text/x-python",
   "name": "python",
   "nbconvert_exporter": "python",
   "pygments_lexer": "ipython3",
   "version": "3.5.4"
  }
 },
 "nbformat": 4,
 "nbformat_minor": 1
}
