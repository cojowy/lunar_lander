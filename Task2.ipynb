{
 "cells": [
  {
   "cell_type": "code",
   "execution_count": 1,
   "metadata": {
    "_cell_guid": "3d458c15-e131-f3c4-f756-843d6454bb37",
    "_uuid": "76c68c2752f5c4a44660ccadda2168aaeca3930d"
   },
   "outputs": [
    {
     "name": "stderr",
     "output_type": "stream",
     "text": [
      "Using TensorFlow backend.\n"
     ]
    }
   ],
   "source": [
    "import os \n",
    "import cv2\n",
    "import random\n",
    "import numpy as np\n",
    "import pandas as pd\n",
    "\n",
    "import matplotlib.pyplot as plt\n",
    "%matplotlib inline \n",
    "from matplotlib import ticker\n",
    "import seaborn as sns\n",
    "\n",
    "from sklearn.model_selection import train_test_split\n",
    "from sklearn import metrics\n",
    "from sklearn.model_selection import  GridSearchCV\n",
    "from imblearn.under_sampling import RandomUnderSampler\n",
    "from sklearn.utils import shuffle\n",
    "\n",
    "import keras\n",
    "from keras.models import Sequential\n",
    "from keras.wrappers.scikit_learn import KerasClassifier\n",
    "from keras.layers import Input, Dropout, Flatten, Conv2D, MaxPooling2D, Dense, Activation\n",
    "from keras.optimizers import RMSprop, adam\n",
    "from keras.utils import np_utils\n",
    "\n",
    "from keras import backend as K\n",
    "K.set_image_data_format('channels_first')"
   ]
  },
  {
   "cell_type": "code",
   "execution_count": 8,
   "metadata": {},
   "outputs": [],
   "source": [
    "# ls ./frames\n",
    "# ls ../frames/2018-04-20-15-12-38/\n",
    "\n",
    "\n",
    "# file names are frame_<date-time>_<step (ie. action number)>_<action>.jpeg"
   ]
  },
  {
   "cell_type": "code",
   "execution_count": 4,
   "metadata": {
    "_cell_guid": "663d335e-1b84-a8cb-19ee-8f04839cf4e5",
    "_uuid": "16ddc310f7e96e68f1a5cb8ef796be3afdbb33f8"
   },
   "outputs": [
    {
     "name": "stdout",
     "output_type": "stream",
     "text": [
      "Processed 0 of 9703\n",
      "Processed 1000 of 9703\n",
      "Processed 2000 of 9703\n",
      "Processed 3000 of 9703\n",
      "Processed 4000 of 9703\n",
      "Processed 5000 of 9703\n",
      "Processed 6000 of 9703\n",
      "Processed 7000 of 9703\n",
      "Processed 8000 of 9703\n",
      "Processed 9000 of 9703\n",
      "Train shape: (9703, 1, 64, 64)\n"
     ]
    }
   ],
   "source": [
    "# Set up some parmaeters for data loading\n",
    "\n",
    "#Plug in your training dir\n",
    "\n",
    "#Other user\n",
    "#TRAIN_DIR = './frames/something..etc/'\n",
    "\n",
    "#Andy\n",
    "TRAIN_DIR = './frames/2018-04-21-20-41-25/'\n",
    "\n",
    "#Conor\n",
    "TRAIN_DIR = '../frames/2018-04-20-15-12-38/'\n",
    "\n",
    "sample_rate = 0.1\n",
    "ROWS = 64\n",
    "COLS = 64\n",
    "CHANNELS = 1\n",
    "\n",
    "# generate filenames from the data folder and do sampling\n",
    "image_filenames = [TRAIN_DIR+i for i in os.listdir(TRAIN_DIR) if not i.startswith('.')] # use this for full dataset\n",
    "image_filenames = random.sample(image_filenames, int(len(image_filenames)*sample_rate))\n",
    "\n",
    "# Create a data array for image data\n",
    "count = len(image_filenames)\n",
    "data = np.ndarray((count, CHANNELS, ROWS, COLS), dtype=np.float)\n",
    "\n",
    "# Iterate throuigh the filenames and for each one load the image, resize and normalise\n",
    "for i, image_file in enumerate(image_filenames):\n",
    "    image = cv2.imread(image_file, cv2.IMREAD_GRAYSCALE)\n",
    "    image = cv2.resize(image, (ROWS, COLS), interpolation=cv2.INTER_CUBIC)        \n",
    "    data[i] = image\n",
    "    data[i] = data[i]/255\n",
    "    if i%1000 == 0: print('Processed {} of {}'.format(i, count))\n",
    "\n",
    "print(\"Train shape: {}\".format(data.shape))"
   ]
  },
  {
   "cell_type": "code",
   "execution_count": 9,
   "metadata": {
    "_cell_guid": "c0f2fbf6-8d78-7d42-6579-5486a36c1e60",
    "_uuid": "ba1fa53e4ef436c3e26d0ef7b8d3f327db9ae6c0",
    "scrolled": true
   },
   "outputs": [
    {
     "data": {
      "text/plain": [
       "<matplotlib.axes._subplots.AxesSubplot at 0x7f74ddbff208>"
      ]
     },
     "execution_count": 9,
     "metadata": {},
     "output_type": "execute_result"
    },
    {
     "data": {
      "image/png": "[encoded data removed]",
      "text/plain": [
       "<Figure size 432x288 with 1 Axes>"
      ]
     },
     "metadata": {},
     "output_type": "display_data"
    }
   ],
   "source": [
    "# ACTIONS: 0=no action, 1=left, 2=up, 3=right\n",
    "\n",
    "# Extract the lables from the last characters in the filename\n",
    "labels = []\n",
    "for i in image_filenames:\n",
    "    l = i[-6:-5]\n",
    "    labels.append(int(l))\n",
    "        \n",
    "# Count the number of clases\n",
    "num_classes = len(set(labels))\n",
    "\n",
    "# convert to binary encoded labels\n",
    "labels_wide = keras.utils.to_categorical(labels, num_classes)\n",
    "\n",
    "# Plot a bar plot of the \n",
    "sns.countplot(labels)"
   ]
  },
  {
   "cell_type": "code",
   "execution_count": 10,
   "metadata": {},
   "outputs": [
    {
     "name": "stdout",
     "output_type": "stream",
     "text": [
      "2\n"
     ]
    },
    {
     "data": {
      "image/png": "[encoded data removed]",
      "text/plain": [
       "<Figure size 216x216 with 1 Axes>"
      ]
     },
     "metadata": {},
     "output_type": "display_data"
    },
    {
     "name": "stdout",
     "output_type": "stream",
     "text": [
      "2\n"
     ]
    },
    {
     "data": {
      "image/png": "[encoded data removed]",
      "text/plain": [
       "<Figure size 216x216 with 1 Axes>"
      ]
     },
     "metadata": {},
     "output_type": "display_data"
    },
    {
     "name": "stdout",
     "output_type": "stream",
     "text": [
      "0\n"
     ]
    },
    {
     "data": {
      "image/png": "[encoded data removed]",
      "text/plain": [
       "<Figure size 216x216 with 1 Axes>"
      ]
     },
     "metadata": {},
     "output_type": "display_data"
    },
    {
     "name": "stdout",
     "output_type": "stream",
     "text": [
      "2\n"
     ]
    },
    {
     "data": {
      "image/png": "[encoded data removed]",
      "text/plain": [
       "<Figure size 216x216 with 1 Axes>"
      ]
     },
     "metadata": {},
     "output_type": "display_data"
    },
    {
     "name": "stdout",
     "output_type": "stream",
     "text": [
      "2\n"
     ]
    },
    {
     "data": {
      "image/png": "[encoded data removed]",
      "text/plain": [
       "<Figure size 216x216 with 1 Axes>"
      ]
     },
     "metadata": {},
     "output_type": "display_data"
    }
   ],
   "source": [
    "#show some screens\n",
    "for i in range(0,5):\n",
    "    idx = random.randint(0, len(labels))\n",
    "    print(labels[idx])\n",
    "    plt.figure(figsize=(3,3))\n",
    "    plt.imshow(data[idx][0], cmap='gray')\n",
    "    plt.show()"
   ]
  },
  {
   "cell_type": "code",
   "execution_count": 11,
   "metadata": {},
   "outputs": [],
   "source": [
    "#train test split\n",
    "train, test, train_labels, test_labels = train_test_split(data, labels, random_state=0, test_size = 0.2, train_size = 0.8)\n",
    "train_labels_wide = keras.utils.to_categorical(train_labels, num_classes)\n",
    "test_labels_wide = keras.utils.to_categorical(test_labels, num_classes)"
   ]
  },
  {
   "cell_type": "code",
   "execution_count": 12,
   "metadata": {},
   "outputs": [
    {
     "data": {
      "image/png": "[encoded data removed]",
      "text/plain": [
       "<Figure size 432x288 with 1 Axes>"
      ]
     },
     "metadata": {},
     "output_type": "display_data"
    }
   ],
   "source": [
    "# Apply the random under-sampling\n",
    "rus = RandomUnderSampler(return_indices=True)\n",
    "train_rus, train_labels_rus, idx_resampled = rus.fit_sample(train.reshape(len(train), ROWS*COLS*CHANNELS), train_labels)\n",
    "train_rus, train_labels_rus = shuffle(train_rus, train_labels_rus)\n",
    "train_rus = train_rus.reshape(len(train_rus), CHANNELS,ROWS, COLS)\n",
    "sns.countplot(train_labels_rus)\n",
    "train_labels_rus_wide = keras.utils.to_categorical(train_labels_rus, num_classes)"
   ]
  },
  {
   "cell_type": "code",
   "execution_count": 13,
   "metadata": {
    "_cell_guid": "4c477612-41d3-3112-5176-3c4ad9633080",
    "_uuid": "f316f98f6d395fe3898e7f0465e21cd8e7562b21",
    "scrolled": true
   },
   "outputs": [],
   "source": [
    "#Build Keras Models\n",
    "\n",
    "#build Keras model\n",
    "def build_fn(dropout_rate=0.0):\n",
    "    model = Sequential()\n",
    "    model.add(Conv2D(32, (3, 3), padding='same', input_shape=(CHANNELS, ROWS, COLS), activation='relu'))\n",
    "    model.add(MaxPooling2D(pool_size=(2, 2)))\n",
    "    model.add(Flatten())\n",
    "    model.add(Dense(64, activation='relu'))\n",
    "    model.add(Dropout(dropout_rate))\n",
    "    model.add(Dense(num_classes, activation = 'softmax'))\n",
    "    model.compile(loss='categorical_crossentropy', optimizer=adam(lr=1e-3), metrics=['accuracy'])\n",
    "    return model\n",
    "\n",
    "#wrap Keras model for sklearn API\n",
    "#model = KerasClassifier(build_fn=func_name, **func_kwargs, verbose=1)\n",
    "model = KerasClassifier(build_fn=build_fn, dropout_rate=0.1, verbose=1)"
   ]
  },
  {
   "cell_type": "code",
   "execution_count": 14,
   "metadata": {},
   "outputs": [
    {
     "name": "stdout",
     "output_type": "stream",
     "text": [
      "Train on 559 samples, validate on 187 samples\n",
      "Epoch 1/10\n",
      "559/559 [==============================] - 16s 29ms/step - loss: 1.5670 - acc: 0.2558 - val_loss: 1.4280 - val_acc: 0.2727\n",
      "Epoch 2/10\n",
      "559/559 [==============================] - 18s 33ms/step - loss: 1.3873 - acc: 0.3077 - val_loss: 1.4234 - val_acc: 0.2513\n",
      "Epoch 3/10\n",
      "559/559 [==============================] - 18s 31ms/step - loss: 1.3453 - acc: 0.3721 - val_loss: 1.3470 - val_acc: 0.3209\n",
      "Epoch 4/10\n",
      "559/559 [==============================] - 16s 29ms/step - loss: 1.3273 - acc: 0.3614 - val_loss: 1.3458 - val_acc: 0.3476\n",
      "Epoch 5/10\n",
      "559/559 [==============================] - 15s 27ms/step - loss: 1.3188 - acc: 0.3936 - val_loss: 1.3463 - val_acc: 0.3850\n",
      "Epoch 6/10\n",
      "559/559 [==============================] - 15s 26ms/step - loss: 1.2855 - acc: 0.4293 - val_loss: 1.3268 - val_acc: 0.4064\n",
      "Epoch 7/10\n",
      "559/559 [==============================] - 15s 26ms/step - loss: 1.2569 - acc: 0.4651 - val_loss: 1.3161 - val_acc: 0.3262\n",
      "Epoch 8/10\n",
      "559/559 [==============================] - 15s 27ms/step - loss: 1.2242 - acc: 0.5420 - val_loss: 1.3028 - val_acc: 0.4118\n",
      "Epoch 9/10\n",
      "559/559 [==============================] - 15s 27ms/step - loss: 1.1948 - acc: 0.5027 - val_loss: 1.2699 - val_acc: 0.3850\n",
      "Epoch 10/10\n",
      "559/559 [==============================] - 15s 26ms/step - loss: 1.1503 - acc: 0.5581 - val_loss: 1.2494 - val_acc: 0.4492\n",
      "374/374 [==============================] - 5s 14ms/step\n",
      "746/746 [==============================] - 10s 14ms/step\n",
      "Train on 560 samples, validate on 187 samples\n",
      "Epoch 1/10\n",
      "560/560 [==============================] - 15s 27ms/step - loss: 1.7016 - acc: 0.2393 - val_loss: 1.3948 - val_acc: 0.2888\n",
      "Epoch 2/10\n",
      "560/560 [==============================] - 15s 26ms/step - loss: 1.4090 - acc: 0.3018 - val_loss: 1.3811 - val_acc: 0.3476\n",
      "Epoch 3/10\n",
      "560/560 [==============================] - 15s 26ms/step - loss: 1.3701 - acc: 0.3036 - val_loss: 1.3572 - val_acc: 0.3422\n",
      "Epoch 4/10\n",
      "560/560 [==============================] - 15s 26ms/step - loss: 1.3178 - acc: 0.3786 - val_loss: 1.3588 - val_acc: 0.2995\n",
      "Epoch 5/10\n",
      "560/560 [==============================] - 15s 26ms/step - loss: 1.3060 - acc: 0.3964 - val_loss: 1.3316 - val_acc: 0.3743\n",
      "Epoch 6/10\n",
      "560/560 [==============================] - 15s 27ms/step - loss: 1.2772 - acc: 0.4643 - val_loss: 1.3333 - val_acc: 0.3636\n",
      "Epoch 7/10\n",
      "560/560 [==============================] - 15s 26ms/step - loss: 1.2581 - acc: 0.4304 - val_loss: 1.3101 - val_acc: 0.4171\n",
      "Epoch 8/10\n",
      "560/560 [==============================] - 15s 27ms/step - loss: 1.2159 - acc: 0.5125 - val_loss: 1.3045 - val_acc: 0.4118\n",
      "Epoch 9/10\n",
      "560/560 [==============================] - 16s 28ms/step - loss: 1.2009 - acc: 0.5125 - val_loss: 1.2939 - val_acc: 0.4278\n",
      "Epoch 10/10\n",
      "560/560 [==============================] - 15s 27ms/step - loss: 1.1701 - acc: 0.5143 - val_loss: 1.2678 - val_acc: 0.4171\n",
      "373/373 [==============================] - 5s 15ms/step\n",
      "747/747 [==============================] - 10s 13ms/step\n",
      "Train on 560 samples, validate on 187 samples\n",
      "Epoch 1/10\n",
      "560/560 [==============================] - 17s 31ms/step - loss: 1.6448 - acc: 0.2339 - val_loss: 1.4751 - val_acc: 0.1979\n",
      "Epoch 2/10\n",
      "560/560 [==============================] - 15s 28ms/step - loss: 1.3964 - acc: 0.2821 - val_loss: 1.3743 - val_acc: 0.3209\n",
      "Epoch 3/10\n",
      "560/560 [==============================] - 15s 27ms/step - loss: 1.3841 - acc: 0.2982 - val_loss: 1.3806 - val_acc: 0.3209\n",
      "Epoch 4/10\n",
      "560/560 [==============================] - 15s 27ms/step - loss: 1.3795 - acc: 0.2536 - val_loss: 1.3733 - val_acc: 0.2995\n",
      "Epoch 5/10\n",
      "560/560 [==============================] - 19s 34ms/step - loss: 1.3765 - acc: 0.2982 - val_loss: 1.3758 - val_acc: 0.3048\n",
      "Epoch 6/10\n",
      "560/560 [==============================] - 17s 31ms/step - loss: 1.3734 - acc: 0.2786 - val_loss: 1.3763 - val_acc: 0.3476\n",
      "Epoch 7/10\n",
      "560/560 [==============================] - 19s 34ms/step - loss: 1.3693 - acc: 0.3143 - val_loss: 1.3675 - val_acc: 0.3369\n",
      "Epoch 8/10\n",
      "560/560 [==============================] - 17s 30ms/step - loss: 1.3687 - acc: 0.3214 - val_loss: 1.3626 - val_acc: 0.3476\n",
      "Epoch 9/10\n",
      "560/560 [==============================] - 15s 27ms/step - loss: 1.3639 - acc: 0.3393 - val_loss: 1.3663 - val_acc: 0.3636\n",
      "Epoch 10/10\n",
      "560/560 [==============================] - 16s 28ms/step - loss: 1.3572 - acc: 0.3946 - val_loss: 1.3588 - val_acc: 0.3476\n",
      "373/373 [==============================] - 5s 13ms/step\n",
      "747/747 [==============================] - 10s 14ms/step\n",
      "Train on 840 samples, validate on 280 samples\n",
      "Epoch 1/10\n",
      "840/840 [==============================] - 23s 27ms/step - loss: 1.4523 - acc: 0.2702 - val_loss: 1.3686 - val_acc: 0.3714\n",
      "Epoch 2/10\n",
      "840/840 [==============================] - 23s 27ms/step - loss: 1.3645 - acc: 0.3167 - val_loss: 1.3542 - val_acc: 0.2857\n",
      "Epoch 3/10\n",
      "840/840 [==============================] - 23s 27ms/step - loss: 1.3022 - acc: 0.4369 - val_loss: 1.3092 - val_acc: 0.3571\n",
      "Epoch 4/10\n",
      "840/840 [==============================] - 22s 27ms/step - loss: 1.2452 - acc: 0.5143 - val_loss: 1.2896 - val_acc: 0.3893\n",
      "Epoch 5/10\n",
      "840/840 [==============================] - 22s 27ms/step - loss: 1.1953 - acc: 0.5083 - val_loss: 1.2550 - val_acc: 0.4036\n",
      "Epoch 6/10\n",
      "840/840 [==============================] - 22s 27ms/step - loss: 1.1455 - acc: 0.5512 - val_loss: 1.2159 - val_acc: 0.4536\n",
      "Epoch 7/10\n",
      "840/840 [==============================] - 23s 27ms/step - loss: 1.1164 - acc: 0.5429 - val_loss: 1.1699 - val_acc: 0.4893\n",
      "Epoch 8/10\n",
      "840/840 [==============================] - 23s 27ms/step - loss: 1.0793 - acc: 0.5512 - val_loss: 1.1661 - val_acc: 0.4607\n",
      "Epoch 9/10\n",
      "840/840 [==============================] - 23s 27ms/step - loss: 1.0424 - acc: 0.5893 - val_loss: 1.1631 - val_acc: 0.4679\n",
      "Epoch 10/10\n",
      "840/840 [==============================] - 22s 27ms/step - loss: 0.9955 - acc: 0.6048 - val_loss: 1.1305 - val_acc: 0.4714\n"
     ]
    }
   ],
   "source": [
    "#https://machinelearningmastery.com/grid-search-hyperparameters-deep-learning-models-python-keras/\n",
    "\n",
    "#params for grid search\n",
    "param_grid = {\n",
    "    \n",
    "    #training params\n",
    "    \"epochs\":list(range(10,11,5)),   \n",
    "    \"batch_size\":[2**i for i in range(7,8)], #powers of 2\n",
    "    \"validation_split\":[0.25,],\n",
    "    \"shuffle\":[True],\n",
    "    \n",
    "    #model structural hyperparams\n",
    "    #these depend on args for build_fn\n",
    "    \"dropout_rate\":[0.1],\n",
    "    #\"optimizer\":['SGD', 'RMSprop', 'Adagrad', 'Adam'],\n",
    "    #\"activation\":['relu', 'softmax'],\n",
    "    #Learning rate\n",
    "    #momentum etc.\n",
    "    #init_mode #initial weightings\n",
    "}\n",
    "\n",
    "#create gridsearch object\n",
    "grid = GridSearchCV(estimator=model,\n",
    "                   param_grid=param_grid,\n",
    "                   n_jobs=1,\n",
    "                   #verbose=1,\n",
    "                   refit=True,\n",
    "                   return_train_score=True)\n",
    "\n",
    "#run gridsearch\n",
    "gs_clfs = grid.fit(train_rus, \n",
    "                   train_labels_rus_wide,\n",
    "                  )"
   ]
  },
  {
   "cell_type": "code",
   "execution_count": 16,
   "metadata": {
    "_cell_guid": "ca613169-4b41-e9d5-27c7-6629f8e035c8",
    "_uuid": "28050bad88268405c6bbfcd42095a75bb53cc847"
   },
   "outputs": [
    {
     "data": {
      "text/plain": [
       "{'batch_size': 128,\n",
       " 'dropout_rate': 0.1,\n",
       " 'epochs': 10,\n",
       " 'shuffle': True,\n",
       " 'validation_split': 0.25}"
      ]
     },
     "execution_count": 16,
     "metadata": {},
     "output_type": "execute_result"
    }
   ],
   "source": [
    "#some printables re:gridsearch\n",
    "pd.DataFrame(gs_clfs.cv_results_)\n",
    "gs_clfs.best_estimator_.get_params()\n",
    "gs_clfs.best_params_\n"
   ]
  },
  {
   "cell_type": "code",
   "execution_count": 17,
   "metadata": {},
   "outputs": [
    {
     "name": "stdout",
     "output_type": "stream",
     "text": [
      "****** Test Data ********\n",
      "1941/1941 [==============================] - 27s 14ms/step\n",
      "             precision    recall  f1-score   support\n",
      "\n",
      "          0       0.78      0.55      0.65       927\n",
      "          1       0.11      0.50      0.18        66\n",
      "          2       0.65      0.63      0.64       882\n",
      "          3       0.14      0.32      0.20        66\n",
      "\n",
      "avg / total       0.68      0.57      0.61      1941\n",
      "\n",
      "Confusion Matrix\n",
      "[[510 137 240  40]\n",
      " [  7  33  26   0]\n",
      " [129 116 552  85]\n",
      " [  6  11  28  21]]\n",
      "0.574961360124\n"
     ]
    }
   ],
   "source": [
    "#Evaluate with Test dataset\n",
    "\n",
    "print(\"****** Test Data ********\")\n",
    "# Make a set of predictions for the validation data\n",
    "#pred = gs_clfs.best_estimator_.predict_classes(test) for keras style\n",
    "pred = gs_clfs.best_estimator_.predict(test)  #for estimator objects\n",
    "\n",
    "# Print performance details\n",
    "print(metrics.classification_report(test_labels, pred))\n",
    "\n",
    "# Print confusion matrix\n",
    "print(\"Confusion Matrix\")\n",
    "print(metrics.confusion_matrix(test_labels, pred))\n",
    "#display(pd.crosstab(test_labels, list(pred), margins=True))\n",
    "\n",
    "#Accuracy\n",
    "print(metrics.accuracy_score(test_labels, pred))\n"
   ]
  },
  {
   "cell_type": "code",
   "execution_count": 18,
   "metadata": {},
   "outputs": [
    {
     "name": "stdout",
     "output_type": "stream",
     "text": [
      "Train on 840 samples, validate on 280 samples\n",
      "Epoch 1/10\n",
      "840/840 [==============================] - 23s 27ms/step - loss: 1.5640 - acc: 0.2667 - val_loss: 1.3984 - val_acc: 0.3643\n",
      "Epoch 2/10\n",
      "840/840 [==============================] - 22s 27ms/step - loss: 1.4103 - acc: 0.2857 - val_loss: 1.3693 - val_acc: 0.3500\n",
      "Epoch 3/10\n",
      "840/840 [==============================] - 25s 29ms/step - loss: 1.3660 - acc: 0.3560 - val_loss: 1.3571 - val_acc: 0.2679\n",
      "Epoch 4/10\n",
      "840/840 [==============================] - 23s 28ms/step - loss: 1.3584 - acc: 0.2667 - val_loss: 1.3546 - val_acc: 0.2893\n",
      "Epoch 5/10\n",
      "840/840 [==============================] - 23s 27ms/step - loss: 1.3448 - acc: 0.3690 - val_loss: 1.3415 - val_acc: 0.3464\n",
      "Epoch 6/10\n",
      "840/840 [==============================] - 26s 30ms/step - loss: 1.3322 - acc: 0.3286 - val_loss: 1.3336 - val_acc: 0.3143\n",
      "Epoch 7/10\n",
      "840/840 [==============================] - 23s 27ms/step - loss: 1.3144 - acc: 0.3607 - val_loss: 1.3184 - val_acc: 0.3321\n",
      "Epoch 8/10\n",
      "840/840 [==============================] - 24s 28ms/step - loss: 1.3015 - acc: 0.3893 - val_loss: 1.3003 - val_acc: 0.3607\n",
      "Epoch 9/10\n",
      "840/840 [==============================] - 25s 30ms/step - loss: 1.2719 - acc: 0.4238 - val_loss: 1.2988 - val_acc: 0.2929\n",
      "Epoch 10/10\n",
      "840/840 [==============================] - 24s 29ms/step - loss: 1.2618 - acc: 0.4143 - val_loss: 1.2827 - val_acc: 0.3821\n"
     ]
    }
   ],
   "source": [
    "#rebuild model without sklearn wrapper (its easier to work with).\n",
    "dropout_rate = gs_clfs.best_params_['dropout_rate']\n",
    "params = {k:v for k,v in gs_clfs.best_params_.items() if k!='dropout_rate'}\n",
    "model = build_fn(dropout_rate=dropout_rate)\n",
    "history = model.fit(train_rus, train_labels_rus_wide, \n",
    "                    **params,\n",
    "                    verbose=1, )\n"
   ]
  },
  {
   "cell_type": "code",
   "execution_count": 19,
   "metadata": {},
   "outputs": [
    {
     "data": {
      "image/png": "[encoded data removed]",
      "text/plain": [
       "<Figure size 432x288 with 1 Axes>"
      ]
     },
     "metadata": {},
     "output_type": "display_data"
    }
   ],
   "source": [
    "#plot loss curves\n",
    "loss = history.history['loss']\n",
    "val_loss = history.history['val_loss']\n",
    "\n",
    "plt.xlabel('Epochs')\n",
    "plt.ylabel('Loss')\n",
    "plt.plot(loss, 'blue', label='Training Loss')\n",
    "plt.plot(val_loss, 'green', label='Validation Loss')\n",
    "plt.xticks(range(0,params['epochs'])[0::2])\n",
    "plt.legend()\n",
    "plt.show()"
   ]
  },
  {
   "cell_type": "code",
   "execution_count": 20,
   "metadata": {},
   "outputs": [
    {
     "name": "stdout",
     "output_type": "stream",
     "text": [
      "****** Test Data ********\n",
      "             precision    recall  f1-score   support\n",
      "\n",
      "          0       0.62      0.73      0.67       927\n",
      "          1       0.17      0.18      0.18        66\n",
      "          2       0.67      0.20      0.31       882\n",
      "          3       0.06      0.48      0.11        66\n",
      "\n",
      "avg / total       0.61      0.46      0.47      1941\n",
      "\n",
      "Confusion Matrix\n",
      "[[675  22  73 157]\n",
      " [ 27  12   3  24]\n",
      " [376  34 180 292]\n",
      " [ 19   2  13  32]]\n",
      "0.463163317877\n"
     ]
    }
   ],
   "source": [
    "#Evaluate with Test dataset\n",
    "\n",
    "print(\"****** Test Data ********\")\n",
    "# Make a set of predictions for the validation data\n",
    "#pred = gs_clfs.best_estimator_.predict_classes(test) for keras style\n",
    "pred = model.predict_classes(test)  #for estimator objects\n",
    "\n",
    "# Print performance details\n",
    "print(metrics.classification_report(test_labels, pred))\n",
    "\n",
    "# Print confusion matrix\n",
    "print(\"Confusion Matrix\")\n",
    "print(metrics.confusion_matrix(test_labels, pred))\n",
    "#display(pd.crosstab(test_labels, list(pred), margins=True))\n",
    "\n",
    "#Accuracy\n",
    "print(metrics.accuracy_score(test_labels, pred))"
   ]
  },
  {
   "cell_type": "code",
   "execution_count": 15,
   "metadata": {},
   "outputs": [],
   "source": [
    "#save a model\n",
    "filepath = \"player.mod\"\n",
    "model.save(filepath)\n",
    "\n",
    "#load a model\n",
    "model = keras.models.load_model(\"player.mod\")"
   ]
  },
  {
   "cell_type": "code",
   "execution_count": 16,
   "metadata": {},
   "outputs": [],
   "source": [
    "#load a model\n",
    "model = keras.models.load_model(\"player.mod\")"
   ]
  },
  {
   "cell_type": "code",
   "execution_count": 17,
   "metadata": {},
   "outputs": [
    {
     "name": "stdout",
     "output_type": "stream",
     "text": [
      "****** Test Data ********\n",
      "             precision    recall  f1-score   support\n",
      "\n",
      "          0       0.70      0.45      0.55       375\n",
      "          1       0.03      0.62      0.06        16\n",
      "          2       0.59      0.27      0.37       351\n",
      "          3       0.03      0.07      0.04        28\n",
      "\n",
      "avg / total       0.61      0.36      0.44       770\n",
      "\n",
      "Confusion Matrix\n",
      "[[170 123  60  22]\n",
      " [  4  10   1   1]\n",
      " [ 66 147  96  42]\n",
      " [  4  15   7   2]]\n",
      "0.361038961039\n"
     ]
    }
   ],
   "source": [
    "#Evaluate with Test dataset\n",
    "\n",
    "print(\"****** Test Data ********\")\n",
    "# Make a set of predictions for the validation data\n",
    "#pred = gs_clfs.best_estimator_.predict_classes(test) for keras style\n",
    "pred = model.predict_classes(test)  #for estimator objects\n",
    "\n",
    "# Print performance details\n",
    "print(metrics.classification_report(test_labels, pred))\n",
    "\n",
    "# Print confusion matrix\n",
    "print(\"Confusion Matrix\")\n",
    "print(metrics.confusion_matrix(test_labels, pred))\n",
    "#display(pd.crosstab(test_labels, list(pred), margins=True))\n",
    "\n",
    "#Accuracy\n",
    "print(metrics.accuracy_score(test_labels, pred))"
   ]
  },
  {
   "cell_type": "code",
   "execution_count": null,
   "metadata": {},
   "outputs": [],
   "source": []
  },
  {
   "cell_type": "code",
   "execution_count": null,
   "metadata": {},
   "outputs": [],
   "source": []
  }
 ],
 "metadata": {
  "_change_revision": 0,
  "_is_fork": false,
  "kernelspec": {
   "display_name": "Python 3",
   "language": "python",
   "name": "python3"
  },
  "language_info": {
   "codemirror_mode": {
    "name": "ipython",
    "version": 3
   },
   "file_extension": ".py",
   "mimetype": "text/x-python",
   "name": "python",
   "nbconvert_exporter": "python",
   "pygments_lexer": "ipython3",
   "version": "3.5.5"
  }
 },
 "nbformat": 4,
 "nbformat_minor": 1
}
