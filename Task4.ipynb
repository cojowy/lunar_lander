{
 "cells": [
  {
   "cell_type": "markdown",
   "metadata": {},
   "source": [
    "### Lunar Lander: Model Vs Model"
   ]
  },
  {
   "cell_type": "markdown",
   "metadata": {},
   "source": [
    "1. Modify Scripts\n",
    "2. Make a parser to store data\n",
    "3. Analyse Data\n",
    "4. Report"
   ]
  },
  {
   "cell_type": "markdown",
   "metadata": {},
   "source": [
    "### Call Scripts"
   ]
  },
  {
   "cell_type": "code",
   "execution_count": 45,
   "metadata": {},
   "outputs": [
    {
     "name": "stdout",
     "output_type": "stream",
     "text": [
      "Using TensorFlow backend.\n",
      "^C\n",
      "Traceback (most recent call last):\n",
      "  File \"./lunar_lander_ml_states_player.py\", line 390, in <module>\n",
      "    env.render()\n",
      "  File \"./lunar_lander_ml_states_player.py\", line 359, in render\n",
      "    return self.viewer.render(return_rgb_array = mode=='rgb_array')\n",
      "  File \"/home/user1/anaconda3/envs/LunarLander/lib/python3.5/site-packages/gym/envs/classic_control/rendering.py\", line 90, in render\n",
      "    geom.render()\n",
      "  File \"/home/user1/anaconda3/envs/LunarLander/lib/python3.5/site-packages/gym/envs/classic_control/rendering.py\", line 158, in render\n",
      "    self.render1()\n",
      "  File \"/home/user1/anaconda3/envs/LunarLander/lib/python3.5/site-packages/gym/envs/classic_control/rendering.py\", line 281, in render1\n",
      "    glEnd()\n",
      "  File \"/home/user1/anaconda3/envs/LunarLander/lib/python3.5/site-packages/pyglet/gl/lib.py\", line 117, in errcheck_glend\n",
      "    from pyglet import gl\n",
      "  File \"<frozen importlib._bootstrap>\", line 995, in _handle_fromlist\n",
      "KeyboardInterrupt\n"
     ]
    }
   ],
   "source": [
    "! python ./lunar_lander_ml_states_player.py > moo.txt"
   ]
  },
  {
   "cell_type": "code",
   "execution_count": 11,
   "metadata": {},
   "outputs": [
    {
     "name": "stdout",
     "output_type": "stream",
     "text": [
      "Using TensorFlow backend.\n",
      "2018-04-28 02:17:33.192654: W tensorflow/core/platform/cpu_feature_guard.cc:45] The TensorFlow library wasn't compiled to use SSE4.1 instructions, but these are available on your machine and could speed up CPU computations.\n",
      "2018-04-28 02:17:33.192812: W tensorflow/core/platform/cpu_feature_guard.cc:45] The TensorFlow library wasn't compiled to use SSE4.2 instructions, but these are available on your machine and could speed up CPU computations.\n",
      "2018-04-28 02:17:33.192872: W tensorflow/core/platform/cpu_feature_guard.cc:45] The TensorFlow library wasn't compiled to use AVX instructions, but these are available on your machine and could speed up CPU computations.\n",
      "2018-04-28 02:17:33.192887: W tensorflow/core/platform/cpu_feature_guard.cc:45] The TensorFlow library wasn't compiled to use AVX2 instructions, but these are available on your machine and could speed up CPU computations.\n",
      "^C\n",
      "Traceback (most recent call last):\n",
      "  File \"./lunar_lander_ml_images_player.py\", line 391, in <module>\n",
      "    processed_image = cv2.resize(raw_image, (ROWS, COLS), interpolation=cv2.INTER_CUBIC)\n",
      "KeyboardInterrupt\n"
     ]
    }
   ],
   "source": [
    "! python ./lunar_lander_ml_images_player.py > moo2.txt"
   ]
  },
  {
   "cell_type": "code",
   "execution_count": 14,
   "metadata": {},
   "outputs": [
    {
     "name": "stdout",
     "output_type": "stream",
     "text": [
      "Using TensorFlow backend.\n",
      "2018-04-28 02:25:35.878982: W tensorflow/core/platform/cpu_feature_guard.cc:45] The TensorFlow library wasn't compiled to use SSE4.1 instructions, but these are available on your machine and could speed up CPU computations.\n",
      "2018-04-28 02:25:35.879132: W tensorflow/core/platform/cpu_feature_guard.cc:45] The TensorFlow library wasn't compiled to use SSE4.2 instructions, but these are available on your machine and could speed up CPU computations.\n",
      "2018-04-28 02:25:35.879160: W tensorflow/core/platform/cpu_feature_guard.cc:45] The TensorFlow library wasn't compiled to use AVX instructions, but these are available on your machine and could speed up CPU computations.\n",
      "2018-04-28 02:25:35.879179: W tensorflow/core/platform/cpu_feature_guard.cc:45] The TensorFlow library wasn't compiled to use AVX2 instructions, but these are available on your machine and could speed up CPU computations.\n",
      "^C\n",
      "Traceback (most recent call last):\n",
      "  File \"./lunar_lander_dl_player.py\", line 398, in <module>\n",
      "    a = model.predict_classes(processed_image)\n",
      "  File \"/home/user1/anaconda3/envs/LunarLander/lib/python3.5/site-packages/keras/models.py\", line 1138, in predict_classes\n",
      "    steps=steps)\n",
      "  File \"/home/user1/anaconda3/envs/LunarLander/lib/python3.5/site-packages/keras/models.py\", line 1025, in predict\n",
      "    steps=steps)\n",
      "  File \"/home/user1/anaconda3/envs/LunarLander/lib/python3.5/site-packages/keras/engine/training.py\", line 1835, in predict\n",
      "    verbose=verbose, steps=steps)\n",
      "  File \"/home/user1/anaconda3/envs/LunarLander/lib/python3.5/site-packages/keras/engine/training.py\", line 1330, in _predict_loop\n",
      "    batch_outs = f(ins_batch)\n",
      "  File \"/home/user1/anaconda3/envs/LunarLander/lib/python3.5/site-packages/keras/backend/tensorflow_backend.py\", line 2478, in __call__\n",
      "    **self.session_kwargs)\n",
      "  File \"/home/user1/anaconda3/envs/LunarLander/lib/python3.5/site-packages/tensorflow/python/client/session.py\", line 778, in run\n",
      "    run_metadata_ptr)\n",
      "  File \"/home/user1/anaconda3/envs/LunarLander/lib/python3.5/site-packages/tensorflow/python/client/session.py\", line 982, in _run\n",
      "    feed_dict_string, options, run_metadata)\n",
      "  File \"/home/user1/anaconda3/envs/LunarLander/lib/python3.5/site-packages/tensorflow/python/client/session.py\", line 1032, in _do_run\n",
      "    target_list, options, run_metadata)\n",
      "  File \"/home/user1/anaconda3/envs/LunarLander/lib/python3.5/site-packages/tensorflow/python/client/session.py\", line 1039, in _do_call\n",
      "    return fn(*args)\n",
      "  File \"/home/user1/anaconda3/envs/LunarLander/lib/python3.5/site-packages/tensorflow/python/client/session.py\", line 1021, in _run_fn\n",
      "    status, run_metadata)\n",
      "KeyboardInterrupt\n"
     ]
    }
   ],
   "source": [
    "! python ./lunar_lander_dl_player.py > moo3.txt"
   ]
  },
  {
   "cell_type": "markdown",
   "metadata": {},
   "source": [
    "### Read Results"
   ]
  },
  {
   "cell_type": "code",
   "execution_count": 50,
   "metadata": {},
   "outputs": [
    {
     "data": {
      "text/plain": [
       "[222.904688031,\n",
       " 228.429287175,\n",
       " 232.858795516,\n",
       " 243.505110894,\n",
       " 124.286196529,\n",
       " 241.883619238,\n",
       " 240.885223463]"
      ]
     },
     "execution_count": 50,
     "metadata": {},
     "output_type": "execute_result"
    }
   ],
   "source": [
    "def read_results(file):\n",
    "    with open(file) as f:\n",
    "        content = f.readlines()\n",
    "        content = content[1:]\n",
    "        A = [float(line.strip()) for line in content]\n",
    "    return A\n",
    "\n"
   ]
  },
  {
   "cell_type": "code",
   "execution_count": null,
   "metadata": {},
   "outputs": [],
   "source": []
  }
 ],
 "metadata": {
  "kernelspec": {
   "display_name": "Python 3",
   "language": "python",
   "name": "python3"
  },
  "language_info": {
   "codemirror_mode": {
    "name": "ipython",
    "version": 3
   },
   "file_extension": ".py",
   "mimetype": "text/x-python",
   "name": "python",
   "nbconvert_exporter": "python",
   "pygments_lexer": "ipython3",
   "version": "3.5.4"
  }
 },
 "nbformat": 4,
 "nbformat_minor": 2
}
