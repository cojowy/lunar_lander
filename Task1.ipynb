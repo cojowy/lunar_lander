{
 "cells": [
  {
   "cell_type": "code",
   "execution_count": 11,
   "metadata": {},
   "outputs": [],
   "source": [
    "import os \n",
    "import cv2\n",
    "import random\n",
    "import numpy as np\n",
    "import pandas as pd\n",
    "\n",
    "from sklearn.model_selection import cross_val_score, cross_val_predict, \\\n",
    "                                    GridSearchCV, train_test_split\n",
    "from sklearn.ensemble import RandomForestClassifier, GradientBoostingClassifier,\\\n",
    "                             AdaBoostClassifier, BaggingClassifier\n",
    "from sklearn.neural_network import MLPClassifier\n",
    "from sklearn.svm import SVC\n",
    "\n",
    "import pprint\n"
   ]
  },
  {
   "cell_type": "code",
   "execution_count": 12,
   "metadata": {},
   "outputs": [],
   "source": [
    "data_file=\"../state_vectors_2018-04-20-15-12-38.csv\"\n",
    "sample_nr_rows=6000\n",
    "\n",
    "grid_search_cv_folds=5\n",
    "cv_experiment_folds=10"
   ]
  },
  {
   "cell_type": "code",
   "execution_count": 13,
   "metadata": {},
   "outputs": [],
   "source": [
    "# load dataset\n",
    "df = pd.read_csv(data_file)\n",
    "# take sample of required size\n",
    "sample_df = df.sample(sample_nr_rows)"
   ]
  },
  {
   "cell_type": "code",
   "execution_count": 14,
   "metadata": {},
   "outputs": [],
   "source": [
    "# split data into X,y (descriptive features, target feature)\n",
    "X,y = sample_df[[col for col in list(sample_df) if col!='action']],sample_df['action']"
   ]
  },
  {
   "cell_type": "code",
   "execution_count": 15,
   "metadata": {},
   "outputs": [],
   "source": [
    "# choose 3 classifiers to go in here\n",
    "clfs=[RandomForestClassifier]"
   ]
  },
  {
   "cell_type": "code",
   "execution_count": 16,
   "metadata": {},
   "outputs": [],
   "source": [
    "# dictionary for grid search parameters\n",
    "param_grids= {\n",
    "    'RandomForestClassifier': {\n",
    "        'criterion' : ['gini', 'entropy'],\n",
    "        'n_estimators' : [5,10,15],\n",
    "        'max_features' : [None, 5, 8]\n",
    "    }\n",
    "}"
   ]
  },
  {
   "cell_type": "code",
   "execution_count": 17,
   "metadata": {},
   "outputs": [],
   "source": [
    "# dictionary to store the best set of parameters and the best score for each clf\n",
    "tuned_clfs={}\n",
    "\n",
    "# running grid search for each clf\n",
    "for clf in clfs:\n",
    "    \n",
    "    current_GS=GridSearchCV(clf(),param_grids[str(clf).split(\".\")[-1][:-2]], \\\n",
    "                cv=grid_search_cv_folds,verbose=0, return_train_score=True).fit(X,y)\n",
    "    \n",
    "    # store best params and best score in a sub dictionary for clf\n",
    "    tuned_clfs[str(clf).split(\".\")[-1][:-2]] = {\n",
    "                        'best_params' : current_GS.best_params_,\n",
    "                        'best_score' : current_GS.best_score_\n",
    "                    }"
   ]
  },
  {
   "cell_type": "code",
   "execution_count": 18,
   "metadata": {},
   "outputs": [
    {
     "name": "stdout",
     "output_type": "stream",
     "text": [
      "{'RandomForestClassifier': {'best_params': {'criterion': 'gini',\n",
      "                                            'max_features': None,\n",
      "                                            'n_estimators': 15},\n",
      "                            'best_score': 0.83283333333333331}}\n"
     ]
    }
   ],
   "source": [
    "# print the best params and score for each clf\n",
    "pprint.pprint(tuned_clfs)"
   ]
  },
  {
   "cell_type": "code",
   "execution_count": 19,
   "metadata": {},
   "outputs": [],
   "source": [
    "# cross validation experiment for clfs using hyper-params from above\n",
    "cv_scores = {str(clf).split(\".\")[-1][:-2] : \\\n",
    " np.mean(cross_val_score(clf(**tuned_clfs[str(clf).split(\".\")[-1][:-2]]['best_params'])\\\n",
    " ,X,y,cv=cv_experiment_folds)) for clf in clfs}"
   ]
  },
  {
   "cell_type": "code",
   "execution_count": 20,
   "metadata": {},
   "outputs": [
    {
     "name": "stdout",
     "output_type": "stream",
     "text": [
      "{'RandomForestClassifier': 0.83849039857231067}\n"
     ]
    }
   ],
   "source": [
    "# print the avg cross validation scores for the clfs using their best params\n",
    "pprint.pprint(cv_scores)"
   ]
  }
 ],
 "metadata": {
  "kernelspec": {
   "display_name": "Python 3",
   "language": "python",
   "name": "python3"
  },
  "language_info": {
   "codemirror_mode": {
    "name": "ipython",
    "version": 3
   },
   "file_extension": ".py",
   "mimetype": "text/x-python",
   "name": "python",
   "nbconvert_exporter": "python",
   "pygments_lexer": "ipython3",
   "version": "3.5.5"
  }
 },
 "nbformat": 4,
 "nbformat_minor": 2
}
