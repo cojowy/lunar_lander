{
 "cells": [
  {
   "cell_type": "code",
   "execution_count": 1,
   "metadata": {},
   "outputs": [],
   "source": [
    "import os \n",
    "import cv2\n",
    "import random\n",
    "import numpy as np\n",
    "import pandas as pd\n",
    "\n",
    "from sklearn.model_selection import cross_val_score, cross_val_predict, \\\n",
    "                                    GridSearchCV, train_test_split\n",
    "from sklearn.ensemble import RandomForestClassifier, GradientBoostingClassifier,\\\n",
    "                             AdaBoostClassifier, BaggingClassifier\n",
    "from sklearn.neural_network import MLPClassifier\n",
    "from sklearn.svm import SVC\n",
    "from sklearn.externals import joblib\n",
    "\n",
    "import pprint\n"
   ]
  },
  {
   "cell_type": "code",
   "execution_count": 2,
   "metadata": {
    "scrolled": true
   },
   "outputs": [
    {
     "name": "stdout",
     "output_type": "stream",
     "text": [
      "dqn_LunarLander-v2_weights.h5f     README.txt\r\n",
      "\u001b[0m\u001b[01;32mlunar_lander_data_gen.py\u001b[0m*          \u001b[01;34mrl\u001b[0m/\r\n",
      "\u001b[01;32mlunar_lander_dl_player.py\u001b[0m*         Task1.ipynb\r\n",
      "\u001b[01;32mlunar_lander_ml_images_player.py\u001b[0m*  Task2.ipynb\r\n",
      "\u001b[01;32mlunar_lander_ml_states_player.py\u001b[0m*  \u001b[01;32mTask3.py\u001b[0m*\r\n"
     ]
    }
   ],
   "source": [
    "ls"
   ]
  },
  {
   "cell_type": "markdown",
   "metadata": {},
   "source": [
    "### Reading data, specifying parameters for experiment, sampling data"
   ]
  },
  {
   "cell_type": "code",
   "execution_count": 3,
   "metadata": {},
   "outputs": [],
   "source": [
    "#Plug in data file\n",
    "\n",
    "#Other User\n",
    "#data_file = \"state_vectors_....etc.csv\"\n",
    "\n",
    "#Andy\n",
    "# data_file = \"state_vectors_2018-04-21-20-41-25.csv\"\n",
    "\n",
    "#Conor\n",
    "data_file = \"../state_vectors_2018-04-20-15-12-38.csv\"\n",
    "\n",
    "sample_nr_rows = 6000\n",
    "grid_search_cv_folds = 5\n",
    "cv_experiment_folds = 10"
   ]
  },
  {
   "cell_type": "code",
   "execution_count": 4,
   "metadata": {},
   "outputs": [],
   "source": [
    "# load dataset\n",
    "df = pd.read_csv(data_file)\n",
    "\n",
    "# take sample of required size\n",
    "sample_df = df.sample(sample_nr_rows)"
   ]
  },
  {
   "cell_type": "code",
   "execution_count": 5,
   "metadata": {},
   "outputs": [],
   "source": [
    "# split data into X,y (descriptive features, target feature)\n",
    "X,y = sample_df[[col for col in list(sample_df) if col!='action']], sample_df['action']"
   ]
  },
  {
   "cell_type": "markdown",
   "metadata": {},
   "source": [
    "### Choosing algorithms, grid searching to find a set of sensible parameters"
   ]
  },
  {
   "cell_type": "code",
   "execution_count": 6,
   "metadata": {},
   "outputs": [],
   "source": [
    "# choose 3 classifiers to go in here\n",
    "clfs = [RandomForestClassifier, MLPClassifier, BaggingClassifier]"
   ]
  },
  {
   "cell_type": "code",
   "execution_count": 7,
   "metadata": {},
   "outputs": [],
   "source": [
    "# dictionary for grid search parameters\n",
    "param_grids= {\n",
    "    'RandomForestClassifier': {\n",
    "        'criterion' : ['gini', 'entropy'],\n",
    "        'n_estimators' : [5,10,15],\n",
    "        'max_features' : [None, 5, 8]\n",
    "    },\n",
    "    'MLPClassifier': {\n",
    "        'activation' : ['relu', 'logistic'],\n",
    "        'hidden_layer_sizes' : [(100,), (200,), (300,)],\n",
    "        'solver' : ['adam', 'lbfgs'],\n",
    "        'learning_rate' : ['adaptive', 'constant']\n",
    "    },\n",
    "    'BaggingClassifier' : {\n",
    "        'n_estimators' : [5,10,15],\n",
    "        'max_samples' : [0.5,0.75,1],\n",
    "        'max_features' : [0.5,0.75,1]\n",
    "    }\n",
    "}"
   ]
  },
  {
   "cell_type": "code",
   "execution_count": 9,
   "metadata": {},
   "outputs": [],
   "source": [
    "# dictionary to store the best set of parameters and the best score for each clf\n",
    "tuned_clfs={}\n",
    "stored_grid_searches={}\n",
    "# running grid search for each clf\n",
    "for clf in clfs:\n",
    "    clf_name = str(clf).split(\".\")[-1][:-2]\n",
    "    current_GS = GridSearchCV(clf(), \n",
    "                              param_grids[clf_name],\n",
    "                              cv=grid_search_cv_folds,\n",
    "                              verbose=0, \n",
    "                              return_train_score=True).fit(X,y)\n",
    "    \n",
    "    #display(pd.DataFrame(current_GS.cv_results_)\n",
    "    stored_grid_searches[clf_name]=current_GS # store grid search object for each classifier\n",
    "    \n",
    "    # store best params and best score and search results in a sub dictionary for clf"
   ]
  },
  {
   "cell_type": "markdown",
   "metadata": {},
   "source": [
    "### Inspecting grid search objects to select set of parameters"
   ]
  },
  {
   "cell_type": "code",
   "execution_count": 59,
   "metadata": {},
   "outputs": [],
   "source": [
    "selected_params={} # dict to store selcted parameters for each classifier"
   ]
  },
  {
   "cell_type": "code",
   "execution_count": 60,
   "metadata": {},
   "outputs": [
    {
     "data": {
      "text/html": [
       "<div>\n",
       "<style scoped>\n",
       "    .dataframe tbody tr th:only-of-type {\n",
       "        vertical-align: middle;\n",
       "    }\n",
       "\n",
       "    .dataframe tbody tr th {\n",
       "        vertical-align: top;\n",
       "    }\n",
       "\n",
       "    .dataframe thead th {\n",
       "        text-align: right;\n",
       "    }\n",
       "</style>\n",
       "<table border=\"1\" class=\"dataframe\">\n",
       "  <thead>\n",
       "    <tr style=\"text-align: right;\">\n",
       "      <th></th>\n",
       "      <th>mean_fit_time</th>\n",
       "      <th>mean_score_time</th>\n",
       "      <th>mean_test_score</th>\n",
       "      <th>mean_train_score</th>\n",
       "      <th>param_criterion</th>\n",
       "      <th>param_max_features</th>\n",
       "      <th>param_n_estimators</th>\n",
       "      <th>params</th>\n",
       "      <th>rank_test_score</th>\n",
       "      <th>split0_test_score</th>\n",
       "      <th>...</th>\n",
       "      <th>split2_test_score</th>\n",
       "      <th>split2_train_score</th>\n",
       "      <th>split3_test_score</th>\n",
       "      <th>split3_train_score</th>\n",
       "      <th>split4_test_score</th>\n",
       "      <th>split4_train_score</th>\n",
       "      <th>std_fit_time</th>\n",
       "      <th>std_score_time</th>\n",
       "      <th>std_test_score</th>\n",
       "      <th>std_train_score</th>\n",
       "    </tr>\n",
       "  </thead>\n",
       "  <tbody>\n",
       "    <tr>\n",
       "      <th>2</th>\n",
       "      <td>0.356062</td>\n",
       "      <td>0.004777</td>\n",
       "      <td>0.836333</td>\n",
       "      <td>0.995708</td>\n",
       "      <td>gini</td>\n",
       "      <td>None</td>\n",
       "      <td>15</td>\n",
       "      <td>{'criterion': 'gini', 'n_estimators': 15, 'max...</td>\n",
       "      <td>1</td>\n",
       "      <td>0.834443</td>\n",
       "      <td>...</td>\n",
       "      <td>0.833333</td>\n",
       "      <td>0.996250</td>\n",
       "      <td>0.845705</td>\n",
       "      <td>0.995626</td>\n",
       "      <td>0.846411</td>\n",
       "      <td>0.995627</td>\n",
       "      <td>0.006865</td>\n",
       "      <td>0.000095</td>\n",
       "      <td>0.009085</td>\n",
       "      <td>0.000283</td>\n",
       "    </tr>\n",
       "    <tr>\n",
       "      <th>8</th>\n",
       "      <td>0.317243</td>\n",
       "      <td>0.004675</td>\n",
       "      <td>0.831333</td>\n",
       "      <td>0.994875</td>\n",
       "      <td>gini</td>\n",
       "      <td>8</td>\n",
       "      <td>15</td>\n",
       "      <td>{'criterion': 'gini', 'n_estimators': 15, 'max...</td>\n",
       "      <td>2</td>\n",
       "      <td>0.828619</td>\n",
       "      <td>...</td>\n",
       "      <td>0.834167</td>\n",
       "      <td>0.995833</td>\n",
       "      <td>0.830692</td>\n",
       "      <td>0.993751</td>\n",
       "      <td>0.838898</td>\n",
       "      <td>0.995627</td>\n",
       "      <td>0.006156</td>\n",
       "      <td>0.000062</td>\n",
       "      <td>0.004945</td>\n",
       "      <td>0.000764</td>\n",
       "    </tr>\n",
       "    <tr>\n",
       "      <th>7</th>\n",
       "      <td>0.211386</td>\n",
       "      <td>0.003456</td>\n",
       "      <td>0.828667</td>\n",
       "      <td>0.989958</td>\n",
       "      <td>gini</td>\n",
       "      <td>8</td>\n",
       "      <td>10</td>\n",
       "      <td>{'criterion': 'gini', 'n_estimators': 10, 'max...</td>\n",
       "      <td>3</td>\n",
       "      <td>0.836106</td>\n",
       "      <td>...</td>\n",
       "      <td>0.825000</td>\n",
       "      <td>0.991250</td>\n",
       "      <td>0.815680</td>\n",
       "      <td>0.990210</td>\n",
       "      <td>0.828881</td>\n",
       "      <td>0.989588</td>\n",
       "      <td>0.003445</td>\n",
       "      <td>0.000104</td>\n",
       "      <td>0.007974</td>\n",
       "      <td>0.000762</td>\n",
       "    </tr>\n",
       "  </tbody>\n",
       "</table>\n",
       "<p>3 rows × 23 columns</p>\n",
       "</div>"
      ],
      "text/plain": [
       "   mean_fit_time  mean_score_time  mean_test_score  mean_train_score  \\\n",
       "2       0.356062         0.004777         0.836333          0.995708   \n",
       "8       0.317243         0.004675         0.831333          0.994875   \n",
       "7       0.211386         0.003456         0.828667          0.989958   \n",
       "\n",
       "  param_criterion param_max_features param_n_estimators  \\\n",
       "2            gini               None                 15   \n",
       "8            gini                  8                 15   \n",
       "7            gini                  8                 10   \n",
       "\n",
       "                                              params  rank_test_score  \\\n",
       "2  {'criterion': 'gini', 'n_estimators': 15, 'max...                1   \n",
       "8  {'criterion': 'gini', 'n_estimators': 15, 'max...                2   \n",
       "7  {'criterion': 'gini', 'n_estimators': 10, 'max...                3   \n",
       "\n",
       "   split0_test_score       ...         split2_test_score  split2_train_score  \\\n",
       "2           0.834443       ...                  0.833333            0.996250   \n",
       "8           0.828619       ...                  0.834167            0.995833   \n",
       "7           0.836106       ...                  0.825000            0.991250   \n",
       "\n",
       "   split3_test_score  split3_train_score  split4_test_score  \\\n",
       "2           0.845705            0.995626           0.846411   \n",
       "8           0.830692            0.993751           0.838898   \n",
       "7           0.815680            0.990210           0.828881   \n",
       "\n",
       "   split4_train_score  std_fit_time  std_score_time  std_test_score  \\\n",
       "2            0.995627      0.006865        0.000095        0.009085   \n",
       "8            0.995627      0.006156        0.000062        0.004945   \n",
       "7            0.989588      0.003445        0.000104        0.007974   \n",
       "\n",
       "   std_train_score  \n",
       "2         0.000283  \n",
       "8         0.000764  \n",
       "7         0.000762  \n",
       "\n",
       "[3 rows x 23 columns]"
      ]
     },
     "execution_count": 60,
     "metadata": {},
     "output_type": "execute_result"
    }
   ],
   "source": [
    "RF_GS_df = pd.DataFrame(stored_grid_searches['RandomForestClassifier'].cv_results_).sort_values('mean_test_score',ascending=False)\n",
    "RF_GS_df.head(3)"
   ]
  },
  {
   "cell_type": "code",
   "execution_count": 61,
   "metadata": {},
   "outputs": [
    {
     "name": "stdout",
     "output_type": "stream",
     "text": [
      "best params: {'criterion': 'gini', 'n_estimators': 15, 'max_features': None}\n",
      "best score: 0.836333333333\n"
     ]
    }
   ],
   "source": [
    "print(\"best params:\", stored_grid_searches['RandomForestClassifier'].best_params_)\n",
    "print(\"best score:\", stored_grid_searches['RandomForestClassifier'].best_score_)\n",
    "selected_params['RandomForestClassifier'] = stored_grid_searches['RandomForestClassifier'].best_params_"
   ]
  },
  {
   "cell_type": "code",
   "execution_count": 62,
   "metadata": {},
   "outputs": [
    {
     "data": {
      "text/html": [
       "<div>\n",
       "<style scoped>\n",
       "    .dataframe tbody tr th:only-of-type {\n",
       "        vertical-align: middle;\n",
       "    }\n",
       "\n",
       "    .dataframe tbody tr th {\n",
       "        vertical-align: top;\n",
       "    }\n",
       "\n",
       "    .dataframe thead th {\n",
       "        text-align: right;\n",
       "    }\n",
       "</style>\n",
       "<table border=\"1\" class=\"dataframe\">\n",
       "  <thead>\n",
       "    <tr style=\"text-align: right;\">\n",
       "      <th></th>\n",
       "      <th>mean_fit_time</th>\n",
       "      <th>mean_score_time</th>\n",
       "      <th>mean_test_score</th>\n",
       "      <th>mean_train_score</th>\n",
       "      <th>param_activation</th>\n",
       "      <th>param_hidden_layer_sizes</th>\n",
       "      <th>param_learning_rate</th>\n",
       "      <th>param_solver</th>\n",
       "      <th>params</th>\n",
       "      <th>rank_test_score</th>\n",
       "      <th>...</th>\n",
       "      <th>split2_test_score</th>\n",
       "      <th>split2_train_score</th>\n",
       "      <th>split3_test_score</th>\n",
       "      <th>split3_train_score</th>\n",
       "      <th>split4_test_score</th>\n",
       "      <th>split4_train_score</th>\n",
       "      <th>std_fit_time</th>\n",
       "      <th>std_score_time</th>\n",
       "      <th>std_test_score</th>\n",
       "      <th>std_train_score</th>\n",
       "    </tr>\n",
       "  </thead>\n",
       "  <tbody>\n",
       "    <tr>\n",
       "      <th>8</th>\n",
       "      <td>0.593428</td>\n",
       "      <td>0.004500</td>\n",
       "      <td>0.754167</td>\n",
       "      <td>0.754793</td>\n",
       "      <td>relu</td>\n",
       "      <td>(300,)</td>\n",
       "      <td>adaptive</td>\n",
       "      <td>adam</td>\n",
       "      <td>{'learning_rate': 'adaptive', 'activation': 'r...</td>\n",
       "      <td>1</td>\n",
       "      <td>...</td>\n",
       "      <td>0.757500</td>\n",
       "      <td>0.762708</td>\n",
       "      <td>0.747289</td>\n",
       "      <td>0.752552</td>\n",
       "      <td>0.744574</td>\n",
       "      <td>0.748230</td>\n",
       "      <td>0.134222</td>\n",
       "      <td>0.000602</td>\n",
       "      <td>0.006875</td>\n",
       "      <td>0.005937</td>\n",
       "    </tr>\n",
       "    <tr>\n",
       "      <th>6</th>\n",
       "      <td>0.526278</td>\n",
       "      <td>0.002162</td>\n",
       "      <td>0.746667</td>\n",
       "      <td>0.748169</td>\n",
       "      <td>relu</td>\n",
       "      <td>(200,)</td>\n",
       "      <td>constant</td>\n",
       "      <td>adam</td>\n",
       "      <td>{'learning_rate': 'constant', 'activation': 'r...</td>\n",
       "      <td>2</td>\n",
       "      <td>...</td>\n",
       "      <td>0.750833</td>\n",
       "      <td>0.758333</td>\n",
       "      <td>0.739783</td>\n",
       "      <td>0.746303</td>\n",
       "      <td>0.735392</td>\n",
       "      <td>0.733444</td>\n",
       "      <td>0.085068</td>\n",
       "      <td>0.000305</td>\n",
       "      <td>0.007617</td>\n",
       "      <td>0.009242</td>\n",
       "    </tr>\n",
       "    <tr>\n",
       "      <th>16</th>\n",
       "      <td>2.561351</td>\n",
       "      <td>0.007281</td>\n",
       "      <td>0.746500</td>\n",
       "      <td>0.748377</td>\n",
       "      <td>logistic</td>\n",
       "      <td>(200,)</td>\n",
       "      <td>adaptive</td>\n",
       "      <td>adam</td>\n",
       "      <td>{'learning_rate': 'adaptive', 'activation': 'l...</td>\n",
       "      <td>3</td>\n",
       "      <td>...</td>\n",
       "      <td>0.746667</td>\n",
       "      <td>0.750833</td>\n",
       "      <td>0.729775</td>\n",
       "      <td>0.740262</td>\n",
       "      <td>0.737896</td>\n",
       "      <td>0.738442</td>\n",
       "      <td>1.118944</td>\n",
       "      <td>0.000680</td>\n",
       "      <td>0.011571</td>\n",
       "      <td>0.008787</td>\n",
       "    </tr>\n",
       "  </tbody>\n",
       "</table>\n",
       "<p>3 rows × 24 columns</p>\n",
       "</div>"
      ],
      "text/plain": [
       "    mean_fit_time  mean_score_time  mean_test_score  mean_train_score  \\\n",
       "8        0.593428         0.004500         0.754167          0.754793   \n",
       "6        0.526278         0.002162         0.746667          0.748169   \n",
       "16       2.561351         0.007281         0.746500          0.748377   \n",
       "\n",
       "   param_activation param_hidden_layer_sizes param_learning_rate param_solver  \\\n",
       "8              relu                   (300,)            adaptive         adam   \n",
       "6              relu                   (200,)            constant         adam   \n",
       "16         logistic                   (200,)            adaptive         adam   \n",
       "\n",
       "                                               params  rank_test_score  \\\n",
       "8   {'learning_rate': 'adaptive', 'activation': 'r...                1   \n",
       "6   {'learning_rate': 'constant', 'activation': 'r...                2   \n",
       "16  {'learning_rate': 'adaptive', 'activation': 'l...                3   \n",
       "\n",
       "         ...         split2_test_score  split2_train_score  split3_test_score  \\\n",
       "8        ...                  0.757500            0.762708           0.747289   \n",
       "6        ...                  0.750833            0.758333           0.739783   \n",
       "16       ...                  0.746667            0.750833           0.729775   \n",
       "\n",
       "    split3_train_score  split4_test_score  split4_train_score  std_fit_time  \\\n",
       "8             0.752552           0.744574            0.748230      0.134222   \n",
       "6             0.746303           0.735392            0.733444      0.085068   \n",
       "16            0.740262           0.737896            0.738442      1.118944   \n",
       "\n",
       "    std_score_time  std_test_score  std_train_score  \n",
       "8         0.000602        0.006875         0.005937  \n",
       "6         0.000305        0.007617         0.009242  \n",
       "16        0.000680        0.011571         0.008787  \n",
       "\n",
       "[3 rows x 24 columns]"
      ]
     },
     "execution_count": 62,
     "metadata": {},
     "output_type": "execute_result"
    }
   ],
   "source": [
    "MLP_GS_df = pd.DataFrame(stored_grid_searches['MLPClassifier'].cv_results_).sort_values('mean_test_score',ascending=False)\n",
    "MLP_GS_df.head(3)"
   ]
  },
  {
   "cell_type": "code",
   "execution_count": 63,
   "metadata": {},
   "outputs": [
    {
     "name": "stdout",
     "output_type": "stream",
     "text": [
      "best params: {'learning_rate': 'adaptive', 'activation': 'relu', 'hidden_layer_sizes': (300,), 'solver': 'adam'}\n",
      "best score: 0.754166666667\n"
     ]
    }
   ],
   "source": [
    "print(\"best params:\", stored_grid_searches['MLPClassifier'].best_params_)\n",
    "print(\"best score:\", stored_grid_searches['MLPClassifier'].best_score_)\n",
    "selected_params['MLPClassifier'] = stored_grid_searches['MLPClassifier'].best_params_"
   ]
  },
  {
   "cell_type": "code",
   "execution_count": 64,
   "metadata": {},
   "outputs": [
    {
     "data": {
      "text/html": [
       "<div>\n",
       "<style scoped>\n",
       "    .dataframe tbody tr th:only-of-type {\n",
       "        vertical-align: middle;\n",
       "    }\n",
       "\n",
       "    .dataframe tbody tr th {\n",
       "        vertical-align: top;\n",
       "    }\n",
       "\n",
       "    .dataframe thead th {\n",
       "        text-align: right;\n",
       "    }\n",
       "</style>\n",
       "<table border=\"1\" class=\"dataframe\">\n",
       "  <thead>\n",
       "    <tr style=\"text-align: right;\">\n",
       "      <th></th>\n",
       "      <th>mean_fit_time</th>\n",
       "      <th>mean_score_time</th>\n",
       "      <th>mean_test_score</th>\n",
       "      <th>mean_train_score</th>\n",
       "      <th>param_max_features</th>\n",
       "      <th>param_max_samples</th>\n",
       "      <th>param_n_estimators</th>\n",
       "      <th>params</th>\n",
       "      <th>rank_test_score</th>\n",
       "      <th>split0_test_score</th>\n",
       "      <th>...</th>\n",
       "      <th>split2_test_score</th>\n",
       "      <th>split2_train_score</th>\n",
       "      <th>split3_test_score</th>\n",
       "      <th>split3_train_score</th>\n",
       "      <th>split4_test_score</th>\n",
       "      <th>split4_train_score</th>\n",
       "      <th>std_fit_time</th>\n",
       "      <th>std_score_time</th>\n",
       "      <th>std_test_score</th>\n",
       "      <th>std_train_score</th>\n",
       "    </tr>\n",
       "  </thead>\n",
       "  <tbody>\n",
       "    <tr>\n",
       "      <th>14</th>\n",
       "      <td>0.219637</td>\n",
       "      <td>0.005207</td>\n",
       "      <td>0.811833</td>\n",
       "      <td>0.983000</td>\n",
       "      <td>0.75</td>\n",
       "      <td>0.75</td>\n",
       "      <td>15</td>\n",
       "      <td>{'max_samples': 0.75, 'n_estimators': 15, 'max...</td>\n",
       "      <td>1</td>\n",
       "      <td>0.831115</td>\n",
       "      <td>...</td>\n",
       "      <td>0.813333</td>\n",
       "      <td>0.983958</td>\n",
       "      <td>0.814012</td>\n",
       "      <td>0.982504</td>\n",
       "      <td>0.813022</td>\n",
       "      <td>0.984173</td>\n",
       "      <td>0.004596</td>\n",
       "      <td>0.000454</td>\n",
       "      <td>0.013891</td>\n",
       "      <td>0.000995</td>\n",
       "    </tr>\n",
       "    <tr>\n",
       "      <th>11</th>\n",
       "      <td>0.199638</td>\n",
       "      <td>0.005623</td>\n",
       "      <td>0.800167</td>\n",
       "      <td>0.952376</td>\n",
       "      <td>0.75</td>\n",
       "      <td>0.5</td>\n",
       "      <td>15</td>\n",
       "      <td>{'max_samples': 0.5, 'n_estimators': 15, 'max_...</td>\n",
       "      <td>2</td>\n",
       "      <td>0.800333</td>\n",
       "      <td>...</td>\n",
       "      <td>0.795833</td>\n",
       "      <td>0.951042</td>\n",
       "      <td>0.795663</td>\n",
       "      <td>0.951260</td>\n",
       "      <td>0.808848</td>\n",
       "      <td>0.947522</td>\n",
       "      <td>0.020241</td>\n",
       "      <td>0.000630</td>\n",
       "      <td>0.004781</td>\n",
       "      <td>0.003275</td>\n",
       "    </tr>\n",
       "    <tr>\n",
       "      <th>10</th>\n",
       "      <td>0.132031</td>\n",
       "      <td>0.004293</td>\n",
       "      <td>0.789667</td>\n",
       "      <td>0.941584</td>\n",
       "      <td>0.75</td>\n",
       "      <td>0.5</td>\n",
       "      <td>10</td>\n",
       "      <td>{'max_samples': 0.5, 'n_estimators': 10, 'max_...</td>\n",
       "      <td>3</td>\n",
       "      <td>0.813644</td>\n",
       "      <td>...</td>\n",
       "      <td>0.794167</td>\n",
       "      <td>0.942500</td>\n",
       "      <td>0.796497</td>\n",
       "      <td>0.941887</td>\n",
       "      <td>0.778798</td>\n",
       "      <td>0.935235</td>\n",
       "      <td>0.018196</td>\n",
       "      <td>0.001088</td>\n",
       "      <td>0.016492</td>\n",
       "      <td>0.003364</td>\n",
       "    </tr>\n",
       "  </tbody>\n",
       "</table>\n",
       "<p>3 rows × 23 columns</p>\n",
       "</div>"
      ],
      "text/plain": [
       "    mean_fit_time  mean_score_time  mean_test_score  mean_train_score  \\\n",
       "14       0.219637         0.005207         0.811833          0.983000   \n",
       "11       0.199638         0.005623         0.800167          0.952376   \n",
       "10       0.132031         0.004293         0.789667          0.941584   \n",
       "\n",
       "   param_max_features param_max_samples param_n_estimators  \\\n",
       "14               0.75              0.75                 15   \n",
       "11               0.75               0.5                 15   \n",
       "10               0.75               0.5                 10   \n",
       "\n",
       "                                               params  rank_test_score  \\\n",
       "14  {'max_samples': 0.75, 'n_estimators': 15, 'max...                1   \n",
       "11  {'max_samples': 0.5, 'n_estimators': 15, 'max_...                2   \n",
       "10  {'max_samples': 0.5, 'n_estimators': 10, 'max_...                3   \n",
       "\n",
       "    split0_test_score       ...         split2_test_score  split2_train_score  \\\n",
       "14           0.831115       ...                  0.813333            0.983958   \n",
       "11           0.800333       ...                  0.795833            0.951042   \n",
       "10           0.813644       ...                  0.794167            0.942500   \n",
       "\n",
       "    split3_test_score  split3_train_score  split4_test_score  \\\n",
       "14           0.814012            0.982504           0.813022   \n",
       "11           0.795663            0.951260           0.808848   \n",
       "10           0.796497            0.941887           0.778798   \n",
       "\n",
       "    split4_train_score  std_fit_time  std_score_time  std_test_score  \\\n",
       "14            0.984173      0.004596        0.000454        0.013891   \n",
       "11            0.947522      0.020241        0.000630        0.004781   \n",
       "10            0.935235      0.018196        0.001088        0.016492   \n",
       "\n",
       "    std_train_score  \n",
       "14         0.000995  \n",
       "11         0.003275  \n",
       "10         0.003364  \n",
       "\n",
       "[3 rows x 23 columns]"
      ]
     },
     "execution_count": 64,
     "metadata": {},
     "output_type": "execute_result"
    }
   ],
   "source": [
    "BAG_GS_df = pd.DataFrame(stored_grid_searches['BaggingClassifier'].cv_results_).sort_values('mean_test_score',ascending=False)\n",
    "BAG_GS_df.head(3)"
   ]
  },
  {
   "cell_type": "code",
   "execution_count": 65,
   "metadata": {},
   "outputs": [
    {
     "name": "stdout",
     "output_type": "stream",
     "text": [
      "best params: {'max_samples': 0.75, 'n_estimators': 15, 'max_features': 0.75}\n",
      "best score: 0.811833333333\n"
     ]
    }
   ],
   "source": [
    "print(\"best params:\", stored_grid_searches['BaggingClassifier'].best_params_)\n",
    "print(\"best score:\", stored_grid_searches['BaggingClassifier'].best_score_)\n",
    "selected_params['BaggingClassifier'] = stored_grid_searches['BaggingClassifier'].best_params_"
   ]
  },
  {
   "cell_type": "code",
   "execution_count": 68,
   "metadata": {},
   "outputs": [],
   "source": [
    "# cross validation experiment for clfs using hyper-params from above\n",
    "cv_scores = {}\n",
    "for clf in clfs:\n",
    "    clf_name = str(clf).split(\".\")[-1][:-2]\n",
    "    params = selected_params[clf_name]\n",
    "    cv_scores[clf_name] = np.mean(cross_val_score(clf(**params), X, y, cv=cv_experiment_folds)) \n"
   ]
  },
  {
   "cell_type": "code",
   "execution_count": 69,
   "metadata": {},
   "outputs": [
    {
     "name": "stdout",
     "output_type": "stream",
     "text": [
      "{'BaggingClassifier': 0.80549807909758009,\n",
      " 'MLPClassifier': 0.73348540640859772,\n",
      " 'RandomForestClassifier': 0.84049513139104304}\n"
     ]
    }
   ],
   "source": [
    "# print the avg cross validation scores for the clfs using their best params\n",
    "pprint.pprint(cv_scores)"
   ]
  },
  {
   "cell_type": "code",
   "execution_count": 12,
   "metadata": {},
   "outputs": [],
   "source": [
    "#\"Save something, i'm giving up on you.\"\n",
    "#joblib.dump(clf, 'states_learner.pkl')"
   ]
  },
  {
   "cell_type": "code",
   "execution_count": null,
   "metadata": {},
   "outputs": [],
   "source": []
  },
  {
   "cell_type": "markdown",
   "metadata": {},
   "source": [
    "### Investigating how these algorithms perform with more data, using full data set from input file"
   ]
  },
  {
   "cell_type": "code",
   "execution_count": 70,
   "metadata": {},
   "outputs": [],
   "source": [
    "# split data into X,y (descriptive features, target feature)\n",
    "X_big,y_big = df[[col for col in list(df) if col!='action']], df['action']"
   ]
  },
  {
   "cell_type": "code",
   "execution_count": 74,
   "metadata": {},
   "outputs": [],
   "source": [
    "full_df_cv_scores={}\n",
    "for clf in clfs:\n",
    "    clf_name = str(clf).split(\".\")[-1][:-2]\n",
    "    params = selected_params[clf_name]\n",
    "    full_df_cv_scores[clf_name] = np.mean(cross_val_score(clf(**params), X_big, y_big, cv=cv_experiment_folds)) "
   ]
  },
  {
   "cell_type": "code",
   "execution_count": 75,
   "metadata": {},
   "outputs": [
    {
     "name": "stdout",
     "output_type": "stream",
     "text": [
      "{'BaggingClassifier': 0.8625343104640848,\n",
      " 'MLPClassifier': 0.91909871823683942,\n",
      " 'RandomForestClassifier': 0.90721220400154512}\n"
     ]
    }
   ],
   "source": [
    "pprint.pprint(full_df_cv_scores)"
   ]
  }
 ],
 "metadata": {
  "kernelspec": {
   "display_name": "Python 3",
   "language": "python",
   "name": "python3"
  },
  "language_info": {
   "codemirror_mode": {
    "name": "ipython",
    "version": 3
   },
   "file_extension": ".py",
   "mimetype": "text/x-python",
   "name": "python",
   "nbconvert_exporter": "python",
   "pygments_lexer": "ipython3",
   "version": "3.5.5"
  }
 },
 "nbformat": 4,
 "nbformat_minor": 2
}
